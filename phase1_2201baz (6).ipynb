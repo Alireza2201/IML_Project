{
  "cells": [
    {
      "cell_type": "markdown",
      "metadata": {
        "id": "eVHeblRiGRcY"
      },
      "source": [
        "\n",
        "\n",
        "> SHARIF UNI\n",
        "\n",
        "\n",
        "> IML project phase 1 - part 2 and 3\n",
        "\n",
        "\n",
        "> 🔓 Alireza Haghshenas \n",
        "\n",
        "\n"
      ]
    },
    {
      "cell_type": "markdown",
      "metadata": {
        "id": "Iot0jfc_e_97"
      },
      "source": [
        "# Part 2 - Private Training"
      ]
    },
    {
      "cell_type": "markdown",
      "metadata": {
        "id": "aBbUdd6mYrE-"
      },
      "source": [
        "***In this section, you will first train a classification model using a standard approach, then train it with privacy enhancements, and compare the MIA accuracy of both models. (Use the provided model in model.py for all tasks.)***"
      ]
    },
    {
      "cell_type": "markdown",
      "metadata": {
        "id": "izEiy77hYiTY"
      },
      "source": [
        "### Simulation Question 4."
      ]
    },
    {
      "cell_type": "markdown",
      "metadata": {
        "id": "D1o-xKuyll3k"
      },
      "source": [
        "**Use 80 percent of the CIFAR-10 training data to train your model. This will serve as your baseline model.**"
      ]
    },
    {
      "cell_type": "markdown",
      "metadata": {
        "id": "3ml2ssI7ll53"
      },
      "source": [
        "Importing Libraries and Defining the Model :"
      ]
    },
    {
      "cell_type": "code",
      "execution_count": null,
      "metadata": {
        "id": "HC2acoX5lduf"
      },
      "outputs": [],
      "source": [
        "import torch\n",
        "import torch.nn as nn\n",
        "import torch.nn.functional as F\n",
        "import torch.optim as optim\n",
        "from torchvision import datasets, transforms\n",
        "from torch.utils.data import DataLoader, random_split\n",
        "import matplotlib.pyplot as plt\n",
        "\n",
        "class CIFAR10Classifier(nn.Module):\n",
        "    def __init__(self):\n",
        "        super(CIFAR10Classifier, self).__init__()\n",
        "        self.conv1 = nn.Conv2d(3, 16, 3, 1)\n",
        "        self.conv2 = nn.Conv2d(16, 32, 3, 1)\n",
        "        self.dropout1 = nn.Dropout2d(0.25)\n",
        "        self.dropout2 = nn.Dropout2d(0.5)\n",
        "        self.fc1 = nn.Linear(6272, 64)\n",
        "        self.fc2 = nn.Linear(64, 10)\n",
        "\n",
        "    def forward(self, x):\n",
        "        x = self.conv1(x)\n",
        "        x = F.relu(x)\n",
        "        x = self.conv2(x)\n",
        "        x = F.relu(x)\n",
        "        x = F.max_pool2d(x, 2)\n",
        "        x = self.dropout1(x)\n",
        "        x = torch.flatten(x, 1)\n",
        "        x = self.fc1(x)\n",
        "        x = F.relu(x)\n",
        "        x = self.dropout2(x)\n",
        "        x = self.fc2(x)\n",
        "        return x\n"
      ]
    },
    {
      "cell_type": "markdown",
      "metadata": {
        "id": "TdiRlJ1llgxC"
      },
      "source": [
        "Data Transformations and Loading :"
      ]
    },
    {
      "cell_type": "code",
      "execution_count": null,
      "metadata": {
        "colab": {
          "base_uri": "https://localhost:8080/"
        },
        "id": "aajN3dhDldxC",
        "outputId": "0ac239df-6dcb-40cf-ae0a-3c6d05fa6106"
      },
      "outputs": [
        {
          "name": "stdout",
          "output_type": "stream",
          "text": [
            "Downloading https://www.cs.toronto.edu/~kriz/cifar-10-python.tar.gz to ./data/cifar-10-python.tar.gz\n"
          ]
        },
        {
          "name": "stderr",
          "output_type": "stream",
          "text": [
            "100%|██████████| 170498071/170498071 [00:08<00:00, 20927305.32it/s]\n"
          ]
        },
        {
          "name": "stdout",
          "output_type": "stream",
          "text": [
            "Extracting ./data/cifar-10-python.tar.gz to ./data\n",
            "Files already downloaded and verified\n"
          ]
        }
      ],
      "source": [
        "# Transformations for CIFAR-10 dataset\n",
        "transform = transforms.Compose([\n",
        "    transforms.ToTensor(),\n",
        "    transforms.Normalize((0.4914, 0.4822, 0.4465), (0.2023, 0.1994, 0.2010))\n",
        "])\n",
        "\n",
        "# Load CIFAR-10 dataset\n",
        "train_dataset = datasets.CIFAR10(root='./data', train=True, download=True, transform=transform)\n",
        "test_dataset = datasets.CIFAR10(root='./data', train=False, download=True, transform=transform)\n",
        "\n",
        "#  80% training and 20% validation\n",
        "train_size = int(0.8 * len(train_dataset))\n",
        "val_size = len(train_dataset) - train_size\n",
        "train_dataset, val_dataset = random_split(train_dataset, [train_size, val_size])\n",
        "\n",
        "# Data loaders\n",
        "train_loader = DataLoader(train_dataset, batch_size=64, shuffle=True)\n",
        "val_loader = DataLoader(val_dataset, batch_size=64, shuffle=False)\n",
        "test_loader = DataLoader(test_dataset, batch_size=64, shuffle=False)\n"
      ]
    },
    {
      "cell_type": "markdown",
      "metadata": {
        "id": "RM9cVxPelr-6"
      },
      "source": [
        "Initializing the Model, Loss Function, and Optimizer :"
      ]
    },
    {
      "cell_type": "code",
      "execution_count": null,
      "metadata": {
        "id": "fIpYONHIldzg"
      },
      "outputs": [],
      "source": [
        "model = CIFAR10Classifier()\n",
        "criterion = nn.CrossEntropyLoss()\n",
        "optimizer = optim.Adam(model.parameters(), lr=0.001)"
      ]
    },
    {
      "cell_type": "markdown",
      "metadata": {
        "id": "pnBJCSyGlrSw"
      },
      "source": [
        "Training the Model :"
      ]
    },
    {
      "cell_type": "code",
      "execution_count": null,
      "metadata": {
        "colab": {
          "base_uri": "https://localhost:8080/"
        },
        "id": "SpQ5ElgJlrhd",
        "outputId": "cc50347c-b8d8-416e-c93c-90489a2d47e1"
      },
      "outputs": [
        {
          "name": "stderr",
          "output_type": "stream",
          "text": [
            "/usr/local/lib/python3.10/dist-packages/torch/nn/functional.py:1374: UserWarning: dropout2d: Received a 2-D input to dropout2d, which is deprecated and will result in an error in a future release. To retain the behavior and silence this warning, please use dropout instead. Note that dropout2d exists to provide channel-wise dropout on inputs with 2 spatial dimensions, a channel dimension, and an optional batch dimension (i.e. 3D or 4D inputs).\n",
            "  warnings.warn(warn_msg)\n"
          ]
        },
        {
          "name": "stdout",
          "output_type": "stream",
          "text": [
            "Epoch [1/10], Loss: 1.7533, Validation Accuracy: 50.22%\n",
            "Epoch [2/10], Loss: 1.4988, Validation Accuracy: 56.08%\n",
            "Epoch [3/10], Loss: 1.3832, Validation Accuracy: 59.80%\n",
            "Epoch [4/10], Loss: 1.3106, Validation Accuracy: 61.76%\n",
            "Epoch [5/10], Loss: 1.2626, Validation Accuracy: 62.42%\n",
            "Epoch [6/10], Loss: 1.2164, Validation Accuracy: 64.15%\n",
            "Epoch [7/10], Loss: 1.1801, Validation Accuracy: 64.38%\n",
            "Epoch [8/10], Loss: 1.1454, Validation Accuracy: 65.16%\n",
            "Epoch [9/10], Loss: 1.1259, Validation Accuracy: 64.65%\n",
            "Epoch [10/10], Loss: 1.0988, Validation Accuracy: 65.24%\n"
          ]
        }
      ],
      "source": [
        "num_epochs = 10\n",
        "train_loss_history = []\n",
        "val_accuracy_history = []\n",
        "\n",
        "for epoch in range(num_epochs):\n",
        "    model.train()\n",
        "    running_loss = 0.0\n",
        "    for inputs, labels in train_loader:\n",
        "        optimizer.zero_grad()\n",
        "        outputs = model(inputs)\n",
        "        loss = criterion(outputs, labels)\n",
        "        loss.backward()\n",
        "        optimizer.step()\n",
        "        running_loss += loss.item()\n",
        "\n",
        "    epoch_loss = running_loss / len(train_loader)\n",
        "    train_loss_history.append(epoch_loss)\n",
        "\n",
        "    # Calculate validation accuracy\n",
        "    model.eval()\n",
        "    correct = 0\n",
        "    total = 0\n",
        "    with torch.no_grad():\n",
        "        for inputs, labels in val_loader:\n",
        "            outputs = model(inputs)\n",
        "            _, predicted = torch.max(outputs.data, 1)\n",
        "            total += labels.size(0)\n",
        "            correct += (predicted == labels).sum().item()\n",
        "\n",
        "    val_accuracy = 100 * correct / total\n",
        "    val_accuracy_history.append(val_accuracy)\n",
        "    print(f'Epoch [{epoch+1}/{num_epochs}], Loss: {epoch_loss:.4f}, Validation Accuracy: {val_accuracy:.2f}%')"
      ]
    },
    {
      "cell_type": "markdown",
      "metadata": {
        "id": "dzzQJPUyl0gf"
      },
      "source": [
        "Evaluating and Saving the Model"
      ]
    },
    {
      "cell_type": "code",
      "execution_count": null,
      "metadata": {
        "colab": {
          "base_uri": "https://localhost:8080/"
        },
        "id": "cblHdEuYl0oB",
        "outputId": "b6bc36fe-648d-49ea-8ed0-d402d65aeca1"
      },
      "outputs": [
        {
          "name": "stdout",
          "output_type": "stream",
          "text": [
            "Test Accuracy: 64.85%\n",
            "Training complete.\n"
          ]
        }
      ],
      "source": [
        "# Evaluate the model on the test dataset\n",
        "model.eval()\n",
        "correct = 0\n",
        "total = 0\n",
        "\n",
        "with torch.no_grad():\n",
        "    for inputs, labels in test_loader:\n",
        "        outputs = model(inputs)\n",
        "        _, predicted = torch.max(outputs.data, 1)\n",
        "        total += labels.size(0)\n",
        "        correct += (predicted == labels).sum().item()\n",
        "\n",
        "test_accuracy = 100 * correct / total\n",
        "print(f'Test Accuracy: {test_accuracy:.2f}%')\n",
        "\n",
        "# Save the trained model\n",
        "torch.save(model.state_dict(), 'cifar10_baseline_model.pth')\n",
        "\n",
        "# Save the training and validation results\n",
        "results_dict = {\n",
        "    'train_loss_history': train_loss_history,\n",
        "    'val_accuracy_history': val_accuracy_history,\n",
        "    'test_accuracy': test_accuracy\n",
        "}\n",
        "torch.save(results_dict, 'training_results.dict')\n",
        "\n",
        "print(\"Training complete.\")\n"
      ]
    },
    {
      "cell_type": "markdown",
      "metadata": {
        "id": "oqMTNaV_UovH"
      },
      "source": [
        "plot the result 2201baz"
      ]
    },
    {
      "cell_type": "code",
      "execution_count": null,
      "metadata": {
        "colab": {
          "base_uri": "https://localhost:8080/",
          "height": 607
        },
        "id": "8h5YRodwUniU",
        "outputId": "be5a6494-257a-492c-b3a0-6a0111d7b9ab"
      },
      "outputs": [
        {
          "data": {
            "image/png": "[encoded data removed]",
            "text/plain": [
              "<Figure size 500x600 with 2 Axes>"
            ]
          },
          "metadata": {},
          "output_type": "display_data"
        }
      ],
      "source": [
        "plt.figure(figsize=(5, 6))\n",
        "\n",
        "plt.subplot(2, 1, 1)\n",
        "plt.plot(range(1, num_epochs + 1), train_loss_history, marker='o', color='b', label='Train Loss')\n",
        "plt.title('Training Loss')\n",
        "plt.xlabel('Epochs')\n",
        "plt.ylabel('Loss')\n",
        "plt.legend()\n",
        "plt.grid(True)\n",
        "\n",
        "plt.subplot(2, 1, 2)\n",
        "plt.plot(range(1, num_epochs + 1), val_accuracy_history, marker='o', color='g', label='Validation Accuracy')\n",
        "plt.title('Validation Accuracy')\n",
        "plt.xlabel('Epochs')\n",
        "plt.ylabel('Accuracy (%)')\n",
        "plt.legend()\n",
        "plt.grid(True)\n",
        "\n",
        "plt.tight_layout()\n",
        "plt.show()\n"
      ]
    },
    {
      "cell_type": "markdown",
      "metadata": {
        "id": "eSeisrqbWu3M"
      },
      "source": [
        "### Simulation Question 5."
      ]
    },
    {
      "cell_type": "markdown",
      "metadata": {
        "id": "Etlwsoe3lnon"
      },
      "source": []
    },
    {
      "cell_type": "markdown",
      "metadata": {
        "id": "yc4-jagzij7P"
      },
      "source": [
        "**Train your baseline model with privacy enhancements. This is your modified model. Ensure that the test accuracy difference between your baseline model and the modified model is less than 15**"
      ]
    },
    {
      "cell_type": "code",
      "execution_count": null,
      "metadata": {
        "colab": {
          "base_uri": "https://localhost:8080/"
        },
        "id": "7PY8B2Kee4IM",
        "outputId": "54ecd67d-2ca3-4c0e-f9dd-abecd29498a9"
      },
      "outputs": [
        {
          "name": "stdout",
          "output_type": "stream",
          "text": [
            "Collecting opacus\n",
            "  Downloading opacus-1.4.1-py3-none-any.whl (226 kB)\n",
            "\u001b[?25l     \u001b[90m━━━━━━━━━━━━━━━━━━━━━━━━━━━━━━━━━━━━━━━━\u001b[0m \u001b[32m0.0/226.7 kB\u001b[0m \u001b[31m?\u001b[0m eta \u001b[36m-:--:--\u001b[0m\r\u001b[2K     \u001b[91m━━━━━━━━━━━━━━━━━━━━━━━━━━━━━━━━━━━━━━━\u001b[0m\u001b[91m╸\u001b[0m \u001b[32m225.3/226.7 kB\u001b[0m \u001b[31m8.5 MB/s\u001b[0m eta \u001b[36m0:00:01\u001b[0m\r\u001b[2K     \u001b[90m━━━━━━━━━━━━━━━━━━━━━━━━━━━━━━━━━━━━━━━━\u001b[0m \u001b[32m226.7/226.7 kB\u001b[0m \u001b[31m6.6 MB/s\u001b[0m eta \u001b[36m0:00:00\u001b[0m\n",
            "\u001b[?25hRequirement already satisfied: numpy>=1.15 in /usr/local/lib/python3.10/dist-packages (from opacus) (1.25.2)\n",
            "Requirement already satisfied: torch>=2.0 in /usr/local/lib/python3.10/dist-packages (from opacus) (2.3.0+cu121)\n",
            "Requirement already satisfied: scipy>=1.2 in /usr/local/lib/python3.10/dist-packages (from opacus) (1.11.4)\n",
            "Requirement already satisfied: opt-einsum>=3.3.0 in /usr/local/lib/python3.10/dist-packages (from opacus) (3.3.0)\n",
            "Requirement already satisfied: filelock in /usr/local/lib/python3.10/dist-packages (from torch>=2.0->opacus) (3.15.4)\n",
            "Requirement already satisfied: typing-extensions>=4.8.0 in /usr/local/lib/python3.10/dist-packages (from torch>=2.0->opacus) (4.12.2)\n",
            "Requirement already satisfied: sympy in /usr/local/lib/python3.10/dist-packages (from torch>=2.0->opacus) (1.12.1)\n",
            "Requirement already satisfied: networkx in /usr/local/lib/python3.10/dist-packages (from torch>=2.0->opacus) (3.3)\n",
            "Requirement already satisfied: jinja2 in /usr/local/lib/python3.10/dist-packages (from torch>=2.0->opacus) (3.1.4)\n",
            "Requirement already satisfied: fsspec in /usr/local/lib/python3.10/dist-packages (from torch>=2.0->opacus) (2023.6.0)\n",
            "Collecting nvidia-cuda-nvrtc-cu12==12.1.105 (from torch>=2.0->opacus)\n",
            "  Using cached nvidia_cuda_nvrtc_cu12-12.1.105-py3-none-manylinux1_x86_64.whl (23.7 MB)\n",
            "Collecting nvidia-cuda-runtime-cu12==12.1.105 (from torch>=2.0->opacus)\n",
            "  Using cached nvidia_cuda_runtime_cu12-12.1.105-py3-none-manylinux1_x86_64.whl (823 kB)\n",
            "Collecting nvidia-cuda-cupti-cu12==12.1.105 (from torch>=2.0->opacus)\n",
            "  Using cached nvidia_cuda_cupti_cu12-12.1.105-py3-none-manylinux1_x86_64.whl (14.1 MB)\n",
            "Collecting nvidia-cudnn-cu12==8.9.2.26 (from torch>=2.0->opacus)\n",
            "  Using cached nvidia_cudnn_cu12-8.9.2.26-py3-none-manylinux1_x86_64.whl (731.7 MB)\n",
            "Collecting nvidia-cublas-cu12==12.1.3.1 (from torch>=2.0->opacus)\n",
            "  Using cached nvidia_cublas_cu12-12.1.3.1-py3-none-manylinux1_x86_64.whl (410.6 MB)\n",
            "Collecting nvidia-cufft-cu12==11.0.2.54 (from torch>=2.0->opacus)\n",
            "  Using cached nvidia_cufft_cu12-11.0.2.54-py3-none-manylinux1_x86_64.whl (121.6 MB)\n",
            "Collecting nvidia-curand-cu12==10.3.2.106 (from torch>=2.0->opacus)\n",
            "  Using cached nvidia_curand_cu12-10.3.2.106-py3-none-manylinux1_x86_64.whl (56.5 MB)\n",
            "Collecting nvidia-cusolver-cu12==11.4.5.107 (from torch>=2.0->opacus)\n",
            "  Using cached nvidia_cusolver_cu12-11.4.5.107-py3-none-manylinux1_x86_64.whl (124.2 MB)\n",
            "Collecting nvidia-cusparse-cu12==12.1.0.106 (from torch>=2.0->opacus)\n",
            "  Using cached nvidia_cusparse_cu12-12.1.0.106-py3-none-manylinux1_x86_64.whl (196.0 MB)\n",
            "Collecting nvidia-nccl-cu12==2.20.5 (from torch>=2.0->opacus)\n",
            "  Using cached nvidia_nccl_cu12-2.20.5-py3-none-manylinux2014_x86_64.whl (176.2 MB)\n",
            "Collecting nvidia-nvtx-cu12==12.1.105 (from torch>=2.0->opacus)\n",
            "  Using cached nvidia_nvtx_cu12-12.1.105-py3-none-manylinux1_x86_64.whl (99 kB)\n",
            "Requirement already satisfied: triton==2.3.0 in /usr/local/lib/python3.10/dist-packages (from torch>=2.0->opacus) (2.3.0)\n",
            "Collecting nvidia-nvjitlink-cu12 (from nvidia-cusolver-cu12==11.4.5.107->torch>=2.0->opacus)\n",
            "  Downloading nvidia_nvjitlink_cu12-12.5.82-py3-none-manylinux2014_x86_64.whl (21.3 MB)\n",
            "\u001b[2K     \u001b[90m━━━━━━━━━━━━━━━━━━━━━━━━━━━━━━━━━━━━━━━━\u001b[0m \u001b[32m21.3/21.3 MB\u001b[0m \u001b[31m65.1 MB/s\u001b[0m eta \u001b[36m0:00:00\u001b[0m\n",
            "\u001b[?25hRequirement already satisfied: MarkupSafe>=2.0 in /usr/local/lib/python3.10/dist-packages (from jinja2->torch>=2.0->opacus) (2.1.5)\n",
            "Requirement already satisfied: mpmath<1.4.0,>=1.1.0 in /usr/local/lib/python3.10/dist-packages (from sympy->torch>=2.0->opacus) (1.3.0)\n",
            "Installing collected packages: nvidia-nvtx-cu12, nvidia-nvjitlink-cu12, nvidia-nccl-cu12, nvidia-curand-cu12, nvidia-cufft-cu12, nvidia-cuda-runtime-cu12, nvidia-cuda-nvrtc-cu12, nvidia-cuda-cupti-cu12, nvidia-cublas-cu12, nvidia-cusparse-cu12, nvidia-cudnn-cu12, nvidia-cusolver-cu12, opacus\n",
            "Successfully installed nvidia-cublas-cu12-12.1.3.1 nvidia-cuda-cupti-cu12-12.1.105 nvidia-cuda-nvrtc-cu12-12.1.105 nvidia-cuda-runtime-cu12-12.1.105 nvidia-cudnn-cu12-8.9.2.26 nvidia-cufft-cu12-11.0.2.54 nvidia-curand-cu12-10.3.2.106 nvidia-cusolver-cu12-11.4.5.107 nvidia-cusparse-cu12-12.1.0.106 nvidia-nccl-cu12-2.20.5 nvidia-nvjitlink-cu12-12.5.82 nvidia-nvtx-cu12-12.1.105 opacus-1.4.1\n"
          ]
        }
      ],
      "source": [
        "pip install opacus"
      ]
    },
    {
      "cell_type": "code",
      "execution_count": null,
      "metadata": {
        "id": "jvPJ-tyIWyQF"
      },
      "outputs": [],
      "source": [
        "import torch\n",
        "import torch.nn as nn\n",
        "import torch.optim as optim\n",
        "from torchvision import datasets, transforms\n",
        "from torch.utils.data import DataLoader, random_split\n",
        "from opacus import PrivacyEngine\n",
        "from sklearn.metrics import accuracy_score\n",
        "import matplotlib.pyplot as plt\n",
        "\n",
        "# Define the CIFAR-10 Classifier model\n",
        "class CIFAR10Classifier(nn.Module):\n",
        "    def __init__(self):\n",
        "        super(CIFAR10Classifier, self).__init__()\n",
        "        self.conv1 = nn.Conv2d(3, 16, 3, 1)\n",
        "        self.conv2 = nn.Conv2d(16, 32, 3, 1)\n",
        "        self.dropout1 = nn.Dropout2d(0.25)\n",
        "        self.dropout2 = nn.Dropout2d(0.5)\n",
        "        self.fc1 = nn.Linear(6272, 64)\n",
        "        self.fc2 = nn.Linear(64, 10)\n",
        "\n",
        "    def forward(self, x):\n",
        "        x = self.conv1(x)\n",
        "        x = F.relu(x)\n",
        "        x = self.conv2(x)\n",
        "        x = F.relu(x)\n",
        "        x = F.max_pool2d(x, 2)\n",
        "        x = self.dropout1(x)\n",
        "        x = torch.flatten(x, 1)\n",
        "        x = self.fc1(x)\n",
        "        x = F.relu(x)\n",
        "        x = self.dropout2(x)\n",
        "        x = self.fc2(x)\n",
        "        return x\n"
      ]
    },
    {
      "cell_type": "markdown",
      "metadata": {
        "id": "3yGoQ5ZgihMt"
      },
      "source": [
        "Data Preparation"
      ]
    },
    {
      "cell_type": "code",
      "execution_count": null,
      "metadata": {
        "colab": {
          "base_uri": "https://localhost:8080/"
        },
        "id": "bmNceP7CWyWe",
        "outputId": "f4014205-79d9-45f6-9a74-3d47c6577175"
      },
      "outputs": [
        {
          "name": "stdout",
          "output_type": "stream",
          "text": [
            "Files already downloaded and verified\n",
            "Files already downloaded and verified\n"
          ]
        }
      ],
      "source": [
        "# Transformations for CIFAR-10 dataset\n",
        "transform = transforms.Compose([\n",
        "    transforms.ToTensor(),\n",
        "    transforms.Normalize((0.4914, 0.4822, 0.4465), (0.2023, 0.1994, 0.2010))\n",
        "])\n",
        "\n",
        "# Load CIFAR-10 dataset\n",
        "train_dataset = datasets.CIFAR10(root='./data', train=True, download=True, transform=transform)\n",
        "test_dataset = datasets.CIFAR10(root='./data', train=False, download=True, transform=transform)\n",
        "\n",
        "#  80% training and 20% validation\n",
        "train_size = int(0.8 * len(train_dataset))\n",
        "val_size = len(train_dataset) - train_size\n",
        "train_dataset, val_dataset = random_split(train_dataset, [train_size, val_size])\n",
        "\n",
        "# Data loaders\n",
        "train_loader = DataLoader(train_dataset, batch_size=64, shuffle=True)\n",
        "val_loader = DataLoader(val_dataset, batch_size=64, shuffle=False)\n",
        "test_loader = DataLoader(test_dataset, batch_size=64, shuffle=False)\n"
      ]
    },
    {
      "cell_type": "markdown",
      "metadata": {
        "id": "rt291hUyid4i"
      },
      "source": [
        "Load Baseline Model"
      ]
    },
    {
      "cell_type": "code",
      "execution_count": null,
      "metadata": {
        "colab": {
          "base_uri": "https://localhost:8080/"
        },
        "id": "SZ3Rdrr1WyY5",
        "outputId": "1073b666-a3c4-472a-f419-dd39c3b31f0a"
      },
      "outputs": [
        {
          "data": {
            "text/plain": [
              "CIFAR10Classifier(\n",
              "  (conv1): Conv2d(3, 16, kernel_size=(3, 3), stride=(1, 1))\n",
              "  (conv2): Conv2d(16, 32, kernel_size=(3, 3), stride=(1, 1))\n",
              "  (dropout1): Dropout2d(p=0.25, inplace=False)\n",
              "  (dropout2): Dropout2d(p=0.5, inplace=False)\n",
              "  (fc1): Linear(in_features=6272, out_features=64, bias=True)\n",
              "  (fc2): Linear(in_features=64, out_features=10, bias=True)\n",
              ")"
            ]
          },
          "execution_count": 10,
          "metadata": {},
          "output_type": "execute_result"
        }
      ],
      "source": [
        "device = torch.device(\"cuda\" if torch.cuda.is_available() else \"cpu\")\n",
        "baseline_model = CIFAR10Classifier().to(device)\n",
        "baseline_model.load_state_dict(torch.load('cifar10_baseline_model.pth'))\n",
        "baseline_model.eval()"
      ]
    },
    {
      "cell_type": "markdown",
      "metadata": {
        "id": "CscXt3D6ic_o"
      },
      "source": [
        "Train Model with Privacy Enhancements"
      ]
    },
    {
      "cell_type": "code",
      "execution_count": null,
      "metadata": {
        "colab": {
          "base_uri": "https://localhost:8080/"
        },
        "id": "9XVxZLPIWycK",
        "outputId": "382ed293-a1bd-4da4-aba5-3d6908ce50a4"
      },
      "outputs": [
        {
          "name": "stderr",
          "output_type": "stream",
          "text": [
            "/usr/local/lib/python3.10/dist-packages/opacus/privacy_engine.py:95: UserWarning: Secure RNG turned off. This is perfectly fine for experimentation as it allows for much faster training performance, but remember to turn it on and retrain one last time before production with ``secure_mode`` turned on.\n",
            "  warnings.warn(\n",
            "/usr/local/lib/python3.10/dist-packages/opacus/accountants/analysis/rdp.py:332: UserWarning: Optimal order is the largest alpha. Please consider expanding the range of alphas to get a tighter privacy bound.\n",
            "  warnings.warn(\n",
            "/usr/local/lib/python3.10/dist-packages/torch/nn/modules/module.py:1373: UserWarning: Using a non-full backward hook when the forward contains multiple autograd Nodes is deprecated and will be removed in future versions. This hook will be missing some grad_input. Please use register_full_backward_hook to get the documented behavior.\n",
            "  warnings.warn(\"Using a non-full backward hook when the forward contains multiple autograd Nodes \"\n",
            "/usr/local/lib/python3.10/dist-packages/torch/nn/functional.py:1374: UserWarning: dropout2d: Received a 2-D input to dropout2d, which is deprecated and will result in an error in a future release. To retain the behavior and silence this warning, please use dropout instead. Note that dropout2d exists to provide channel-wise dropout on inputs with 2 spatial dimensions, a channel dimension, and an optional batch dimension (i.e. 3D or 4D inputs).\n",
            "  warnings.warn(warn_msg)\n"
          ]
        },
        {
          "name": "stdout",
          "output_type": "stream",
          "text": [
            "Epoch [1/25], Loss: 2.2023, Validation Accuracy: 29.10%\n",
            "Epoch [2/25], Loss: 2.0938, Validation Accuracy: 33.33%\n",
            "Epoch [3/25], Loss: 2.0381, Validation Accuracy: 34.70%\n",
            "Epoch [4/25], Loss: 2.0109, Validation Accuracy: 35.66%\n",
            "Epoch [5/25], Loss: 1.9951, Validation Accuracy: 37.38%\n",
            "Epoch [6/25], Loss: 1.9838, Validation Accuracy: 37.88%\n",
            "Epoch [7/25], Loss: 1.9669, Validation Accuracy: 38.55%\n",
            "Epoch [8/25], Loss: 1.9605, Validation Accuracy: 39.05%\n",
            "Epoch [9/25], Loss: 1.9602, Validation Accuracy: 40.09%\n",
            "Epoch [10/25], Loss: 1.9488, Validation Accuracy: 40.78%\n",
            "Epoch [11/25], Loss: 1.9374, Validation Accuracy: 41.42%\n",
            "Epoch [12/25], Loss: 1.9480, Validation Accuracy: 41.37%\n",
            "Epoch [13/25], Loss: 1.9415, Validation Accuracy: 42.44%\n",
            "Epoch [14/25], Loss: 1.9434, Validation Accuracy: 43.16%\n",
            "Epoch [15/25], Loss: 1.9395, Validation Accuracy: 43.18%\n",
            "Epoch [16/25], Loss: 1.9406, Validation Accuracy: 43.80%\n",
            "Epoch [17/25], Loss: 1.9385, Validation Accuracy: 44.10%\n",
            "Epoch [18/25], Loss: 1.9336, Validation Accuracy: 44.59%\n",
            "Epoch [19/25], Loss: 1.9332, Validation Accuracy: 44.80%\n",
            "Epoch [20/25], Loss: 1.9328, Validation Accuracy: 44.71%\n",
            "Epoch [21/25], Loss: 1.9263, Validation Accuracy: 44.91%\n",
            "Epoch [22/25], Loss: 1.9426, Validation Accuracy: 45.02%\n",
            "Epoch [23/25], Loss: 1.9483, Validation Accuracy: 45.67%\n",
            "Epoch [24/25], Loss: 1.9282, Validation Accuracy: 45.46%\n",
            "Epoch [25/25], Loss: 1.9231, Validation Accuracy: 45.68%\n"
          ]
        }
      ],
      "source": [
        "def train_model_with_privacy(model, train_loader, val_loader, criterion, optimizer, device, num_epochs=25):\n",
        "    privacy_engine = PrivacyEngine()\n",
        "    model, optimizer, train_loader = privacy_engine.make_private_with_epsilon(\n",
        "        module=model,\n",
        "        optimizer=optimizer,\n",
        "        data_loader=train_loader,\n",
        "        target_epsilon=6, # Adjust epsilon as needed for privacy budget\n",
        "        target_delta=1e-5,\n",
        "        epochs=num_epochs,\n",
        "        max_grad_norm=1.0,\n",
        "    )\n",
        "\n",
        "    train_loss_history = []\n",
        "    val_accuracy_history = []\n",
        "\n",
        "    for epoch in range(num_epochs):\n",
        "        model.train()\n",
        "        running_loss = 0.0\n",
        "        for inputs, labels in train_loader:\n",
        "            inputs, labels = inputs.to(device), labels.to(device)\n",
        "            optimizer.zero_grad()\n",
        "            outputs = model(inputs)\n",
        "            loss = criterion(outputs, labels)\n",
        "            loss.backward()\n",
        "            optimizer.step()\n",
        "            running_loss += loss.item()\n",
        "\n",
        "        epoch_loss = running_loss / len(train_loader)\n",
        "        train_loss_history.append(epoch_loss)\n",
        "\n",
        "        # Calculate validation accuracy\n",
        "        model.eval()\n",
        "        correct = 0\n",
        "        total = 0\n",
        "        with torch.no_grad():\n",
        "            for inputs, labels in val_loader:\n",
        "                inputs, labels = inputs.to(device), labels.to(device)\n",
        "                outputs = model(inputs)\n",
        "                _, predicted = torch.max(outputs.data, 1)\n",
        "                total += labels.size(0)\n",
        "                correct += (predicted == labels).sum().item()\n",
        "\n",
        "        val_accuracy = 100 * correct / total\n",
        "        val_accuracy_history.append(val_accuracy)\n",
        "        print(f'Epoch [{epoch+1}/{num_epochs}], Loss: {epoch_loss:.4f}, Validation Accuracy: {val_accuracy:.2f}%')\n",
        "\n",
        "    return model, train_loss_history, val_accuracy_history\n",
        "\n",
        "# Initialize and train the model with privacy enhancements\n",
        "privacy_model = CIFAR10Classifier().to(device)\n",
        "criterion = nn.CrossEntropyLoss()\n",
        "privacy_optimizer = optim.Adam(privacy_model.parameters(), lr=0.0005)\n",
        "privacy_model, privacy_train_loss_history, privacy_val_accuracy_history = train_model_with_privacy(\n",
        "    privacy_model, train_loader, val_loader, criterion, privacy_optimizer, device, num_epochs=25)\n"
      ]
    },
    {
      "cell_type": "markdown",
      "metadata": {
        "id": "zdcAPAAYiYXC"
      },
      "source": [
        "Evaluate Models and Compare Results"
      ]
    },
    {
      "cell_type": "code",
      "execution_count": null,
      "metadata": {
        "colab": {
          "base_uri": "https://localhost:8080/"
        },
        "id": "IQOjOZghWye4",
        "outputId": "7e1479de-3508-4e68-9032-88d02a35be08"
      },
      "outputs": [
        {
          "name": "stdout",
          "output_type": "stream",
          "text": [
            "Baseline Test Accuracy: 64.85%\n"
          ]
        },
        {
          "name": "stderr",
          "output_type": "stream",
          "text": [
            "/usr/local/lib/python3.10/dist-packages/torch/nn/functional.py:1374: UserWarning: dropout2d: Received a 2-D input to dropout2d, which is deprecated and will result in an error in a future release. To retain the behavior and silence this warning, please use dropout instead. Note that dropout2d exists to provide channel-wise dropout on inputs with 2 spatial dimensions, a channel dimension, and an optional batch dimension (i.e. 3D or 4D inputs).\n",
            "  warnings.warn(warn_msg)\n"
          ]
        },
        {
          "name": "stdout",
          "output_type": "stream",
          "text": [
            "Privacy Test Accuracy: 46.60%\n",
            "Accuracy Difference: 18.25%\n"
          ]
        }
      ],
      "source": [
        "def evaluate_model(model, dataloader):\n",
        "    model.eval()\n",
        "    all_preds = []\n",
        "    all_labels = []\n",
        "    with torch.no_grad():\n",
        "        for inputs, labels in dataloader:\n",
        "            inputs, labels = inputs.to(device), labels.to(device)\n",
        "            outputs = model(inputs)\n",
        "            _, preds = torch.max(outputs, 1)\n",
        "            all_preds.extend(preds.cpu().numpy())\n",
        "            all_labels.extend(labels.cpu().numpy())\n",
        "    accuracy = accuracy_score(all_labels, all_preds)\n",
        "    return accuracy\n",
        "\n",
        "baseline_test_accuracy = evaluate_model(baseline_model, test_loader)\n",
        "print(f'Baseline Test Accuracy: {baseline_test_accuracy*100:.2f}%')\n",
        "\n",
        "privacy_test_accuracy = evaluate_model(privacy_model, test_loader)\n",
        "print(f'Privacy Test Accuracy: {privacy_test_accuracy*100:.2f}%')\n",
        "\n",
        "accuracy_difference = baseline_test_accuracy - privacy_test_accuracy\n",
        "print(f'Accuracy Difference: {accuracy_difference*100:.2f}%')\n",
        "assert accuracy_difference < 15, \"Accuracy difference is more than 15%\"\n"
      ]
    },
    {
      "cell_type": "markdown",
      "metadata": {
        "id": "nPynAvCpiXos"
      },
      "source": [
        "Plotting the Results"
      ]
    },
    {
      "cell_type": "code",
      "execution_count": null,
      "metadata": {
        "colab": {
          "base_uri": "https://localhost:8080/"
        },
        "id": "V7AU9pssWyhf",
        "outputId": "7c1ce388-be54-4e1e-bcd6-ae9cbfa536f2"
      },
      "outputs": [
        {
          "data": {
            "image/png": "[encoded data removed]",
            "text/plain": [
              "<Figure size 600x700 with 2 Axes>"
            ]
          },
          "metadata": {},
          "output_type": "display_data"
        }
      ],
      "source": [
        "plt.figure(figsize=(6, 7))\n",
        "\n",
        "plt.subplot(2, 1, 1)\n",
        "plt.plot(range(1, len(privacy_train_loss_history) + 1), privacy_train_loss_history, marker='o', color='b', label='Train Loss')\n",
        "plt.title('Training Loss with Privacy Enhancements')\n",
        "plt.xlabel('Epochs')\n",
        "plt.ylabel('Loss')\n",
        "plt.legend()\n",
        "plt.grid(True)\n",
        "\n",
        "plt.subplot(2, 1, 2)\n",
        "plt.plot(range(1, len(privacy_val_accuracy_history) + 1), privacy_val_accuracy_history, marker='o', color='g', label='Validation Accuracy')\n",
        "plt.title('Validation Accuracy with Privacy Enhancements')\n",
        "plt.xlabel('Epochs')\n",
        "plt.ylabel('Accuracy (%)')\n",
        "plt.legend()\n",
        "plt.grid(True)\n",
        "\n",
        "\n",
        "plt.tight_layout()\n",
        "plt.show()\n"
      ]
    },
    {
      "cell_type": "markdown",
      "metadata": {
        "id": "BB8eEsuhiSIr"
      },
      "source": [
        "Save the Modified Model and Results"
      ]
    },
    {
      "cell_type": "code",
      "execution_count": null,
      "metadata": {
        "colab": {
          "base_uri": "https://localhost:8080/"
        },
        "id": "WKYens9OiSR4",
        "outputId": "968a6f45-7ac7-454b-fefb-52855d825d00"
      },
      "outputs": [
        {
          "name": "stdout",
          "output_type": "stream",
          "text": [
            "Training with privacy enhancements complete.\n"
          ]
        }
      ],
      "source": [
        "# Save the privacy-enhanced model correctly\n",
        "def save_model_correctly(model, path):\n",
        "    # Remove the \"_module\" prefix\n",
        "    state_dict = model.state_dict()\n",
        "    new_state_dict = {k.replace(\"_module.\", \"\"): v for k, v in state_dict.items()}\n",
        "    torch.save(new_state_dict, path)\n",
        "\n",
        "save_model_correctly(privacy_model, 'cifar10_privacy_model.pth')\n",
        "\n",
        "# Save the training and validation results for the privacy-enhanced model\n",
        "privacy_results_dict = {\n",
        "    'train_loss_history': privacy_train_loss_history,\n",
        "    'val_accuracy_history': privacy_val_accuracy_history,\n",
        "    'test_accuracy': privacy_test_accuracy\n",
        "}\n",
        "torch.save(privacy_results_dict, 'privacy_training_results.dict')\n",
        "\n",
        "print(\"Training with privacy enhancements complete.\")"
      ]
    },
    {
      "cell_type": "markdown",
      "metadata": {
        "id": "TjSVjWZ5sqPM"
      },
      "source": [
        "### Simulation Question 6."
      ]
    },
    {
      "cell_type": "markdown",
      "metadata": {
        "id": "Kq0IYqeWoMiq"
      },
      "source": [
        "**Train two Attacker Models based on MIA techniques learned in Phase 0, one for the baseline model and one for the modified model. Compare the MIA accuracy of these two attacker models. Use 80 percent of the training data as your seen data, and the remaining training data along with the test data as your unseen data.**"
      ]
    },
    {
      "cell_type": "markdown",
      "metadata": {
        "id": "mhuFFMZ0oMfn"
      },
      "source": [
        "Import Libraries and Define Models"
      ]
    },
    {
      "cell_type": "code",
      "execution_count": null,
      "metadata": {
        "id": "aPz8q9_MstRj"
      },
      "outputs": [],
      "source": [
        "import torch\n",
        "import torch.nn as nn\n",
        "import torch.optim as optim\n",
        "from torchvision import datasets, transforms\n",
        "from torch.utils.data import DataLoader, random_split, Subset\n",
        "from sklearn.metrics import accuracy_score\n",
        "import numpy as np\n",
        "import matplotlib.pyplot as plt\n",
        "\n",
        "# Define the CIFAR-10 Classifier model\n",
        "class CIFAR10Classifier(nn.Module):\n",
        "    def __init__(self):\n",
        "        super(CIFAR10Classifier, self).__init__()\n",
        "        self.conv1 = nn.Conv2d(3, 16, 3, 1)\n",
        "        self.conv2 = nn.Conv2d(16, 32, 3, 1)\n",
        "        self.dropout1 = nn.Dropout2d(0.25)\n",
        "        self.dropout2 = nn.Dropout2d(0.5)\n",
        "        self.fc1 = nn.Linear(6272, 64)\n",
        "        self.fc2 = nn.Linear(64, 10)\n",
        "\n",
        "    def forward(self, x):\n",
        "        x = self.conv1(x)\n",
        "        x = F.relu(x)\n",
        "        x = self.conv2(x)\n",
        "        x = F.relu(x)\n",
        "        x = F.max_pool2d(x, 2)\n",
        "        x = self.dropout1(x)\n",
        "        x = torch.flatten(x, 1)\n",
        "        x = self.fc1(x)\n",
        "        x = F.relu(x)\n",
        "        x = self.dropout2(x)\n",
        "        x = self.fc2(x)\n",
        "        return x\n",
        "\n",
        "# Define the MIA Attacker model\n",
        "class AttackerModel(nn.Module):\n",
        "    def __init__(self):\n",
        "        super(AttackerModel, self).__init__()\n",
        "        self.fc1 = nn.Linear(10, 64)\n",
        "        self.fc2 = nn.Linear(64, 2)\n",
        "\n",
        "    def forward(self, x):\n",
        "        x = F.relu(self.fc1(x))\n",
        "        x = self.fc2(x)\n",
        "        return x\n"
      ]
    },
    {
      "cell_type": "markdown",
      "metadata": {
        "id": "rGHrAIavoRgv"
      },
      "source": [
        "Load Data and Initialize Models"
      ]
    },
    {
      "cell_type": "code",
      "execution_count": null,
      "metadata": {
        "colab": {
          "base_uri": "https://localhost:8080/"
        },
        "id": "wxBdzqcq45b7",
        "outputId": "645e59de-7956-4463-f29a-c8ee7c70899c"
      },
      "outputs": [
        {
          "name": "stdout",
          "output_type": "stream",
          "text": [
            "Files already downloaded and verified\n",
            "Files already downloaded and verified\n"
          ]
        }
      ],
      "source": [
        "# Transformations for CIFAR-10 dataset\n",
        "transform = transforms.Compose([\n",
        "    transforms.ToTensor(),\n",
        "    transforms.Normalize((0.4914, 0.4822, 0.4465), (0.2023, 0.1994, 0.2010))\n",
        "])\n",
        "\n",
        "# Load CIFAR-10 dataset\n",
        "train_dataset = datasets.CIFAR10(root='./data', train=True, download=True, transform=transform)\n",
        "test_dataset = datasets.CIFAR10(root='./data', train=False, download=True, transform=transform)\n",
        "\n",
        "#80% seen and 20% unseen\n",
        "train_size = int(0.8 * len(train_dataset))\n",
        "seen_data, unseen_data = random_split(train_dataset, [train_size, len(train_dataset) - train_size])\n",
        "\n",
        "# Combine the unseen training data and test data for the attacker model's unseen data\n",
        "unseen_data = Subset(train_dataset, unseen_data.indices + list(range(len(test_dataset))))\n",
        "\n",
        "# Data loaders\n",
        "BATCH_SIZE = 64\n",
        "seen_loader = DataLoader(seen_data, batch_size=BATCH_SIZE, shuffle=True)\n",
        "unseen_loader = DataLoader(unseen_data, batch_size=BATCH_SIZE, shuffle=False)\n"
      ]
    },
    {
      "cell_type": "markdown",
      "metadata": {
        "id": "VyaebvKYoSD6"
      },
      "source": [
        "Initialize and Load Pre-trained Models"
      ]
    },
    {
      "cell_type": "code",
      "execution_count": null,
      "metadata": {
        "colab": {
          "base_uri": "https://localhost:8080/"
        },
        "id": "vX3f5BDs5Isq",
        "outputId": "4f8b8318-8cf9-49a4-9b13-76a68b365d22"
      },
      "outputs": [
        {
          "data": {
            "text/plain": [
              "CIFAR10Classifier(\n",
              "  (conv1): Conv2d(3, 16, kernel_size=(3, 3), stride=(1, 1))\n",
              "  (conv2): Conv2d(16, 32, kernel_size=(3, 3), stride=(1, 1))\n",
              "  (dropout1): Dropout2d(p=0.25, inplace=False)\n",
              "  (dropout2): Dropout2d(p=0.5, inplace=False)\n",
              "  (fc1): Linear(in_features=6272, out_features=64, bias=True)\n",
              "  (fc2): Linear(in_features=64, out_features=10, bias=True)\n",
              ")"
            ]
          },
          "execution_count": 22,
          "metadata": {},
          "output_type": "execute_result"
        }
      ],
      "source": [
        "# Initialize models\n",
        "device = torch.device(\"cuda\" if torch.cuda.is_available() else \"cpu\")\n",
        "baseline_model = CIFAR10Classifier().to(device)\n",
        "privacy_model = CIFAR10Classifier().to(device)\n",
        "\n",
        "baseline_model.load_state_dict(torch.load('cifar10_baseline_model.pth'))\n",
        "privacy_model.load_state_dict(torch.load('cifar10_privacy_model.pth'))\n",
        "\n",
        "baseline_model.eval()\n",
        "privacy_model.eval()\n"
      ]
    },
    {
      "cell_type": "markdown",
      "metadata": {
        "id": "iVFrs0MooS5n"
      },
      "source": [
        "Generate Query Data Using Shadow Models"
      ]
    },
    {
      "cell_type": "code",
      "execution_count": null,
      "metadata": {
        "colab": {
          "base_uri": "https://localhost:8080/"
        },
        "id": "q2HgjzXy5IvL",
        "outputId": "320e6047-16e6-4372-d0df-a6ed6746e99b"
      },
      "outputs": [
        {
          "name": "stderr",
          "output_type": "stream",
          "text": [
            "/usr/local/lib/python3.10/dist-packages/torch/nn/functional.py:1374: UserWarning: dropout2d: Received a 2-D input to dropout2d, which is deprecated and will result in an error in a future release. To retain the behavior and silence this warning, please use dropout instead. Note that dropout2d exists to provide channel-wise dropout on inputs with 2 spatial dimensions, a channel dimension, and an optional batch dimension (i.e. 3D or 4D inputs).\n",
            "  warnings.warn(warn_msg)\n"
          ]
        }
      ],
      "source": [
        "def generate_query_data_shadow_models(model_class, data_loader, label, model_path, num_shadow_models=5):\n",
        "    features = []\n",
        "    labels = []\n",
        "    for _ in range(num_shadow_models):\n",
        "        shadow_model = model_class().to(device)\n",
        "        shadow_model.load_state_dict(torch.load(model_path))  # Load the specified model\n",
        "        shadow_model.eval()\n",
        "        with torch.no_grad():\n",
        "            for inputs, _ in data_loader:\n",
        "                inputs = inputs.to(device)\n",
        "                outputs = shadow_model(inputs)\n",
        "                features.extend(outputs.cpu().numpy())\n",
        "                labels.extend([label] * outputs.size(0))\n",
        "    return features, labels\n",
        "\n",
        "# Generate query data for attacker models using multiple shadow models\n",
        "baseline_seen_features, baseline_seen_labels = generate_query_data_shadow_models(CIFAR10Classifier, seen_loader, 1, 'cifar10_baseline_model.pth', num_shadow_models=10)\n",
        "baseline_unseen_features, baseline_unseen_labels = generate_query_data_shadow_models(CIFAR10Classifier, unseen_loader, 0, 'cifar10_baseline_model.pth', num_shadow_models=10)\n",
        "privacy_seen_features, privacy_seen_labels = generate_query_data_shadow_models(CIFAR10Classifier, seen_loader, 1, 'cifar10_privacy_model.pth', num_shadow_models=10)\n",
        "privacy_unseen_features, privacy_unseen_labels = generate_query_data_shadow_models(CIFAR10Classifier, unseen_loader, 0, 'cifar10_privacy_model.pth', num_shadow_models=10)\n"
      ]
    },
    {
      "cell_type": "markdown",
      "metadata": {
        "id": "H96i7yQvtX28"
      },
      "source": [
        "Prepare Data for Attacker Models"
      ]
    },
    {
      "cell_type": "code",
      "execution_count": null,
      "metadata": {
        "id": "_0bipGz46iR0"
      },
      "outputs": [],
      "source": [
        "# Combine features and labels\n",
        "baseline_features = baseline_seen_features + baseline_unseen_features\n",
        "baseline_labels = baseline_seen_labels + baseline_unseen_labels\n",
        "privacy_features = privacy_seen_features + privacy_unseen_features\n",
        "privacy_labels = privacy_seen_labels + privacy_unseen_labels\n",
        "\n",
        "# Convert to tensors\n",
        "baseline_features = torch.tensor(baseline_features, dtype=torch.float32)\n",
        "baseline_labels = torch.tensor(baseline_labels, dtype=torch.long)\n",
        "privacy_features = torch.tensor(privacy_features, dtype=torch.float32)\n",
        "privacy_labels = torch.tensor(privacy_labels, dtype=torch.long)\n",
        "\n",
        "# Data loaders for attacker models\n",
        "baseline_loader = DataLoader(list(zip(baseline_features, baseline_labels)), batch_size=64, shuffle=True)\n",
        "privacy_loader = DataLoader(list(zip(privacy_features, privacy_labels)), batch_size=64, shuffle=True)\n"
      ]
    },
    {
      "cell_type": "markdown",
      "metadata": {
        "id": "jpXCDxS5tbSU"
      },
      "source": [
        "Initialize and Train Attacker Models"
      ]
    },
    {
      "cell_type": "code",
      "execution_count": null,
      "metadata": {
        "colab": {
          "base_uri": "https://localhost:8080/"
        },
        "id": "TiAZng2dsmTr",
        "outputId": "e01c0889-d043-4dab-f6ba-1a6371d52d6d"
      },
      "outputs": [
        {
          "name": "stdout",
          "output_type": "stream",
          "text": [
            "Training baseline attacker model...\n",
            "Epoch [1/10], Loss: 0.63866, Accuracy: 0.66642500\n",
            "Epoch [2/10], Loss: 0.63664, Accuracy: 0.66665667\n",
            "Epoch [3/10], Loss: 0.63624, Accuracy: 0.66665667\n",
            "Epoch [4/10], Loss: 0.63597, Accuracy: 0.66672167\n",
            "Epoch [5/10], Loss: 0.63565, Accuracy: 0.66680833\n",
            "Epoch [6/10], Loss: 0.63537, Accuracy: 0.66692500\n",
            "Epoch [7/10], Loss: 0.63511, Accuracy: 0.66686000\n",
            "Epoch [8/10], Loss: 0.63492, Accuracy: 0.66702500\n",
            "Epoch [9/10], Loss: 0.63464, Accuracy: 0.66701667\n",
            "Epoch [10/10], Loss: 0.63438, Accuracy: 0.66716000\n",
            "Training privacy attacker model...\n",
            "Epoch [1/10], Loss: 0.63812, Accuracy: 0.66643333\n",
            "Epoch [2/10], Loss: 0.63664, Accuracy: 0.66665167\n",
            "Epoch [3/10], Loss: 0.63635, Accuracy: 0.66665000\n",
            "Epoch [4/10], Loss: 0.63627, Accuracy: 0.66663500\n",
            "Epoch [5/10], Loss: 0.63613, Accuracy: 0.66663667\n",
            "Epoch [6/10], Loss: 0.63598, Accuracy: 0.66667000\n",
            "Epoch [7/10], Loss: 0.63582, Accuracy: 0.66665000\n",
            "Epoch [8/10], Loss: 0.63566, Accuracy: 0.66666500\n",
            "Epoch [9/10], Loss: 0.63549, Accuracy: 0.66673000\n",
            "Epoch [10/10], Loss: 0.63531, Accuracy: 0.66677667\n"
          ]
        }
      ],
      "source": [
        "baseline_attacker = AttackerModel().to(device)\n",
        "privacy_attacker = AttackerModel().to(device)\n",
        "\n",
        "# Loss and optimizer for attacker models\n",
        "criterion = nn.CrossEntropyLoss()\n",
        "optimizer_baseline = optim.Adam(baseline_attacker.parameters(), lr=0.001)\n",
        "optimizer_privacy = optim.Adam(privacy_attacker.parameters(), lr=0.001)\n",
        "\n",
        "# Function to train attacker model and print accuracy in each epoch\n",
        "def train_attacker(attacker_model, optimizer, data_loader, num_epochs=10):\n",
        "    loss_history = []\n",
        "    accuracy_history = []\n",
        "    for epoch in range(num_epochs):\n",
        "        attacker_model.train()\n",
        "        running_loss = 0.0\n",
        "        correct = 0\n",
        "        total = 0\n",
        "        for inputs, labels in data_loader:\n",
        "            inputs, labels = inputs.to(device), labels.to(device)\n",
        "            optimizer.zero_grad()\n",
        "            outputs = attacker_model(inputs)\n",
        "            loss = criterion(outputs, labels)\n",
        "            loss.backward()\n",
        "            optimizer.step()\n",
        "            running_loss += loss.item()\n",
        "            _, predicted = torch.max(outputs.data, 1)\n",
        "            total += labels.size(0)\n",
        "            correct += (predicted == labels).sum().item()\n",
        "        epoch_loss = running_loss / len(data_loader)\n",
        "        epoch_accuracy = correct / total\n",
        "        loss_history.append(epoch_loss)\n",
        "        accuracy_history.append(epoch_accuracy)\n",
        "        print(f'Epoch [{epoch+1}/{num_epochs}], Loss: {epoch_loss:.5f}, Accuracy: {epoch_accuracy:.8f}')\n",
        "    return loss_history, accuracy_history\n",
        "\n",
        "print(\"Training baseline attacker model...\")\n",
        "baseline_loss_history, baseline_accuracy_history = train_attacker(baseline_attacker, optimizer_baseline, baseline_loader)\n",
        "\n",
        "print(\"Training privacy attacker model...\")\n",
        "privacy_loss_history, privacy_accuracy_history = train_attacker(privacy_attacker, optimizer_privacy, privacy_loader)\n"
      ]
    },
    {
      "cell_type": "markdown",
      "metadata": {
        "id": "r_pMeUy7tdcf"
      },
      "source": [
        "Evaluate Attacker Models and Plot Results"
      ]
    },
    {
      "cell_type": "code",
      "execution_count": null,
      "metadata": {
        "colab": {
          "base_uri": "https://localhost:8080/",
          "height": 789
        },
        "id": "MW1yq_i4smdh",
        "outputId": "2037771b-3397-4b75-9038-c1167929bd6e"
      },
      "outputs": [
        {
          "name": "stdout",
          "output_type": "stream",
          "text": [
            "Baseline Attacker Model Accuracy: 0.66735\n",
            "Privacy Attacker Model Accuracy: 0.66632\n"
          ]
        },
        {
          "name": "stderr",
          "output_type": "stream",
          "text": [
            "<ipython-input-38-83a2bfe1d05f>:17: MatplotlibDeprecationWarning: Auto-removal of overlapping axes is deprecated since 3.6 and will be removed two minor releases later; explicitly call ax.remove() as needed.\n",
            "  plt.subplot(2, 1, 1)\n"
          ]
        },
        {
          "data": {
            "image/png": "[encoded data removed]",
            "text/plain": [
              "<Figure size 700x800 with 2 Axes>"
            ]
          },
          "metadata": {},
          "output_type": "display_data"
        }
      ],
      "source": [
        "def evaluate_attacker(attacker_model, features, labels):\n",
        "    attacker_model.eval()\n",
        "    with torch.no_grad():\n",
        "        outputs = attacker_model(features.to(device))\n",
        "        _, predicted = torch.max(outputs, 1)\n",
        "        accuracy = accuracy_score(labels.cpu(), predicted.cpu())\n",
        "    return accuracy\n",
        "\n",
        "baseline_attacker_accuracy = evaluate_attacker(baseline_attacker, baseline_features, baseline_labels)\n",
        "privacy_attacker_accuracy = evaluate_attacker(privacy_attacker, privacy_features, privacy_labels)\n",
        "\n",
        "print(f'Baseline Attacker Model Accuracy: {baseline_attacker_accuracy:.5f}')\n",
        "print(f'Privacy Attacker Model Accuracy: {privacy_attacker_accuracy:.5f}')\n",
        "\n",
        "plt.figure(figsize=(7, 8))\n",
        "plt.title('Loss and Accuracy History of Attacker Models')\n",
        "plt.subplot(2, 1, 1)\n",
        "plt.plot(range(1, 11), baseline_loss_history, label='Baseline Attacker Model - Loss')\n",
        "plt.plot(range(1, 11), privacy_loss_history, label='Privacy Attacker Model - Loss')\n",
        "plt.legend()\n",
        "plt.grid(True)\n",
        "plt.xlabel('Epochs')\n",
        "plt.ylabel('Loss')\n",
        "plt.subplot(2, 1, 2)\n",
        "plt.plot(range(1, 11), baseline_accuracy_history, label='Baseline Attacker Model - Accuracy')\n",
        "plt.plot(range(1, 11), privacy_accuracy_history, label='Privacy Attacker Model - Accuracy')\n",
        "plt.xlabel('Epochs')\n",
        "plt.ylabel('Accuracy')\n",
        "\n",
        "plt.legend()\n",
        "plt.grid(True)\n",
        "plt.show()\n"
      ]
    },
    {
      "cell_type": "markdown",
      "metadata": {
        "id": "PMgsowJ5g0co"
      },
      "source": [
        "### Simulation Question 7."
      ]
    },
    {
      "cell_type": "markdown",
      "metadata": {
        "id": "qjgEJCvYnv93"
      },
      "source": [
        "**Improve your attacker models to achieve better MIA accuracy for both the baseline and modified models (e.g., by increasing the number of shadow models) Then compare the new accuracies with the previous results.**"
      ]
    },
    {
      "cell_type": "markdown",
      "metadata": {
        "id": "MpSigVUFnvz_"
      },
      "source": [
        "Import Libraries and Define Models"
      ]
    },
    {
      "cell_type": "code",
      "execution_count": 2,
      "metadata": {
        "id": "HjKet7c3g3iw"
      },
      "outputs": [],
      "source": [
        "import torch\n",
        "import torch.nn as nn\n",
        "import torch.optim as optim\n",
        "import torch.nn.functional as F\n",
        "from torchvision import datasets, transforms\n",
        "from torch.utils.data import DataLoader, random_split, Subset\n",
        "from sklearn.metrics import accuracy_score\n",
        "import numpy as np\n",
        "import matplotlib.pyplot as plt\n",
        "\n",
        "# Define the CIFAR-10 Classifier model\n",
        "class CIFAR10Classifier(nn.Module):\n",
        "    def __init__(self):\n",
        "        super(CIFAR10Classifier, self).__init__()\n",
        "        self.conv1 = nn.Conv2d(3, 16, 3, 1)\n",
        "        self.conv2 = nn.Conv2d(16, 32, 3, 1)\n",
        "        self.dropout1 = nn.Dropout2d(0.25)\n",
        "        self.dropout2 = nn.Dropout2d(0.5)\n",
        "        self.fc1 = nn.Linear(6272, 64)\n",
        "        self.fc2 = nn.Linear(64, 10)\n",
        "\n",
        "    def forward(self, x):\n",
        "        x = self.conv1(x)\n",
        "        x = F.relu(x)\n",
        "        x = self.conv2(x)\n",
        "        x = F.relu(x)\n",
        "        x = F.max_pool2d(x, 2)\n",
        "        x = self.dropout1(x)\n",
        "        x = torch.flatten(x, 1)\n",
        "        x = self.fc1(x)\n",
        "        x = F.relu(x)\n",
        "        x = self.dropout2(x)\n",
        "        x = self.fc2(x)\n",
        "        return x\n",
        "\n",
        "# Define the MIA Attacker model\n",
        "class AttackerModel(nn.Module):\n",
        "    def __init__(self):\n",
        "        super(AttackerModel, self).__init__()\n",
        "        self.fc1 = nn.Linear(10, 64)\n",
        "        self.fc2 = nn.Linear(64, 2)\n",
        "\n",
        "    def forward(self, x):\n",
        "        x = F.relu(self.fc1(x))\n",
        "        x = self.fc2(x)\n",
        "        return x\n"
      ]
    },
    {
      "cell_type": "markdown",
      "metadata": {
        "id": "O9tTPEbDn-eQ"
      },
      "source": [
        "Load Data and Initialize Models"
      ]
    },
    {
      "cell_type": "code",
      "execution_count": 3,
      "metadata": {
        "colab": {
          "base_uri": "https://localhost:8080/"
        },
        "id": "dwVF-xlrg3lL",
        "outputId": "3d385f58-c831-45ae-edc4-52a506382e6d"
      },
      "outputs": [
        {
          "name": "stdout",
          "output_type": "stream",
          "text": [
            "Downloading https://www.cs.toronto.edu/~kriz/cifar-10-python.tar.gz to ./data/cifar-10-python.tar.gz\n"
          ]
        },
        {
          "name": "stderr",
          "output_type": "stream",
          "text": [
            "100%|██████████| 170498071/170498071 [00:18<00:00, 9209037.94it/s] \n"
          ]
        },
        {
          "name": "stdout",
          "output_type": "stream",
          "text": [
            "Extracting ./data/cifar-10-python.tar.gz to ./data\n",
            "Files already downloaded and verified\n"
          ]
        }
      ],
      "source": [
        "# Transformations for CIFAR-10 dataset\n",
        "transform = transforms.Compose([\n",
        "    transforms.ToTensor(),\n",
        "    transforms.Normalize((0.4914, 0.4822, 0.4465), (0.2023, 0.1994, 0.2010))\n",
        "])\n",
        "\n",
        "# Load CIFAR-10 dataset\n",
        "train_dataset = datasets.CIFAR10(root='./data', train=True, download=True, transform=transform)\n",
        "test_dataset = datasets.CIFAR10(root='./data', train=False, download=True, transform=transform)\n",
        "\n",
        "# Split the training data into 80% seen and 20% unseen\n",
        "train_size = int(0.8 * len(train_dataset))\n",
        "seen_data, unseen_data = random_split(train_dataset, [train_size, len(train_dataset) - train_size])\n",
        "\n",
        "# Combine the unseen training data and test data for the attacker model's unseen data\n",
        "unseen_data = Subset(train_dataset, unseen_data.indices + list(range(len(test_dataset))))\n",
        "\n",
        "# Data loaders\n",
        "BATCH_SIZE = 64\n",
        "seen_loader = DataLoader(seen_data, batch_size=BATCH_SIZE, shuffle=True)\n",
        "unseen_loader = DataLoader(unseen_data, batch_size=BATCH_SIZE, shuffle=False)\n"
      ]
    },
    {
      "cell_type": "markdown",
      "metadata": {
        "id": "f2UbOcYUoA6b"
      },
      "source": [
        "Generate Query Data from Enhanced Shadow Models"
      ]
    },
    {
      "cell_type": "code",
      "execution_count": 4,
      "metadata": {
        "colab": {
          "base_uri": "https://localhost:8080/"
        },
        "id": "aFS0dqc8g3n4",
        "outputId": "518014a1-a06e-40a4-e29f-eca63b9ba420"
      },
      "outputs": [
        {
          "data": {
            "text/plain": [
              "CIFAR10Classifier(\n",
              "  (conv1): Conv2d(3, 16, kernel_size=(3, 3), stride=(1, 1))\n",
              "  (conv2): Conv2d(16, 32, kernel_size=(3, 3), stride=(1, 1))\n",
              "  (dropout1): Dropout2d(p=0.25, inplace=False)\n",
              "  (dropout2): Dropout2d(p=0.5, inplace=False)\n",
              "  (fc1): Linear(in_features=6272, out_features=64, bias=True)\n",
              "  (fc2): Linear(in_features=64, out_features=10, bias=True)\n",
              ")"
            ]
          },
          "execution_count": 4,
          "metadata": {},
          "output_type": "execute_result"
        }
      ],
      "source": [
        "# Initialize models\n",
        "device = torch.device(\"cuda\" if torch.cuda.is_available() else \"cpu\")\n",
        "baseline_model = CIFAR10Classifier().to(device)\n",
        "privacy_model = CIFAR10Classifier().to(device)\n",
        "\n",
        "# Load pre-trained models\n",
        "baseline_model.load_state_dict(torch.load('cifar10_baseline_model.pth'))\n",
        "privacy_model.load_state_dict(torch.load('cifar10_privacy_model.pth'))\n",
        "\n",
        "baseline_model.eval()\n",
        "privacy_model.eval()\n"
      ]
    },
    {
      "cell_type": "markdown",
      "metadata": {
        "id": "snBpC5eQoDYz"
      },
      "source": [
        "Train and Evaluate Attacker Models"
      ]
    },
    {
      "cell_type": "code",
      "execution_count": 5,
      "metadata": {
        "colab": {
          "base_uri": "https://localhost:8080/"
        },
        "id": "Iwc7v0yszM4C",
        "outputId": "b86e6ace-927e-4620-93bb-e535ac4ed0a2"
      },
      "outputs": [
        {
          "name": "stderr",
          "output_type": "stream",
          "text": [
            "/usr/local/lib/python3.10/dist-packages/torch/nn/functional.py:1374: UserWarning: dropout2d: Received a 2-D input to dropout2d, which is deprecated and will result in an error in a future release. To retain the behavior and silence this warning, please use dropout instead. Note that dropout2d exists to provide channel-wise dropout on inputs with 2 spatial dimensions, a channel dimension, and an optional batch dimension (i.e. 3D or 4D inputs).\n",
            "  warnings.warn(warn_msg)\n"
          ]
        }
      ],
      "source": [
        "# Function to generate query data using shadow models\n",
        "def generate_query_data_shadow_models(model_class, data_loader, label, model_path, num_shadow_models=20):\n",
        "    features = []\n",
        "    labels = []\n",
        "    for _ in range(num_shadow_models):\n",
        "        shadow_model = model_class().to(device)\n",
        "        shadow_model.load_state_dict(torch.load(model_path))  # Load the specified model\n",
        "        shadow_model.eval()\n",
        "        with torch.no_grad():\n",
        "            for inputs, _ in data_loader:\n",
        "                inputs = inputs.to(device)\n",
        "                outputs = shadow_model(inputs)\n",
        "                features.extend(outputs.cpu().numpy())\n",
        "                labels.extend([label] * outputs.size(0))\n",
        "    return features, labels\n",
        "\n",
        "# Generate query data for attacker models using multiple shadow models\n",
        "baseline_seen_features, baseline_seen_labels = generate_query_data_shadow_models(CIFAR10Classifier, seen_loader, 1, 'cifar10_baseline_model.pth', num_shadow_models=20)\n",
        "baseline_unseen_features, baseline_unseen_labels = generate_query_data_shadow_models(CIFAR10Classifier, unseen_loader, 0, 'cifar10_baseline_model.pth', num_shadow_models=20)\n",
        "privacy_seen_features, privacy_seen_labels = generate_query_data_shadow_models(CIFAR10Classifier, seen_loader, 1, 'cifar10_privacy_model.pth', num_shadow_models=20)\n",
        "privacy_unseen_features, privacy_unseen_labels = generate_query_data_shadow_models(CIFAR10Classifier, unseen_loader, 0, 'cifar10_privacy_model.pth', num_shadow_models=20)\n"
      ]
    },
    {
      "cell_type": "code",
      "execution_count": null,
      "metadata": {
        "colab": {
          "base_uri": "https://localhost:8080/"
        },
        "id": "RMu3eGXfg3qv",
        "outputId": "f725001b-6642-4d71-f23a-1b2f69193870"
      },
      "outputs": [
        {
          "name": "stderr",
          "output_type": "stream",
          "text": [
            "/usr/local/lib/python3.10/dist-packages/torch/nn/functional.py:1374: UserWarning: dropout2d: Received a 2-D input to dropout2d, which is deprecated and will result in an error in a future release. To retain the behavior and silence this warning, please use dropout instead. Note that dropout2d exists to provide channel-wise dropout on inputs with 2 spatial dimensions, a channel dimension, and an optional batch dimension (i.e. 3D or 4D inputs).\n",
            "  warnings.warn(warn_msg)\n"
          ]
        },
        {
          "ename": "KeyboardInterrupt",
          "evalue": "",
          "output_type": "error",
          "traceback": [
            "\u001b[0;31m---------------------------------------------------------------------------\u001b[0m",
            "\u001b[0;31mKeyboardInterrupt\u001b[0m                         Traceback (most recent call last)",
            "\u001b[0;32m<ipython-input-31-d2cbf020792e>\u001b[0m in \u001b[0;36m<cell line: 18>\u001b[0;34m()\u001b[0m\n\u001b[1;32m     16\u001b[0m \u001b[0;34m\u001b[0m\u001b[0m\n\u001b[1;32m     17\u001b[0m \u001b[0;31m# Generate query data for attacker models using multiple shadow models\u001b[0m\u001b[0;34m\u001b[0m\u001b[0;34m\u001b[0m\u001b[0m\n\u001b[0;32m---> 18\u001b[0;31m \u001b[0mbaseline_seen_features\u001b[0m\u001b[0;34m,\u001b[0m \u001b[0mbaseline_seen_labels\u001b[0m \u001b[0;34m=\u001b[0m \u001b[0mgenerate_query_data_shadow_models\u001b[0m\u001b[0;34m(\u001b[0m\u001b[0mCIFAR10Classifier\u001b[0m\u001b[0;34m,\u001b[0m \u001b[0mseen_loader\u001b[0m\u001b[0;34m,\u001b[0m \u001b[0;36m1\u001b[0m\u001b[0;34m,\u001b[0m \u001b[0;34m'cifar10_baseline_model.pth'\u001b[0m\u001b[0;34m,\u001b[0m \u001b[0mnum_shadow_models\u001b[0m\u001b[0;34m=\u001b[0m\u001b[0;36m100\u001b[0m\u001b[0;34m)\u001b[0m\u001b[0;34m\u001b[0m\u001b[0;34m\u001b[0m\u001b[0m\n\u001b[0m\u001b[1;32m     19\u001b[0m \u001b[0mbaseline_unseen_features\u001b[0m\u001b[0;34m,\u001b[0m \u001b[0mbaseline_unseen_labels\u001b[0m \u001b[0;34m=\u001b[0m \u001b[0mgenerate_query_data_shadow_models\u001b[0m\u001b[0;34m(\u001b[0m\u001b[0mCIFAR10Classifier\u001b[0m\u001b[0;34m,\u001b[0m \u001b[0munseen_loader\u001b[0m\u001b[0;34m,\u001b[0m \u001b[0;36m0\u001b[0m\u001b[0;34m,\u001b[0m \u001b[0;34m'cifar10_baseline_model.pth'\u001b[0m\u001b[0;34m,\u001b[0m \u001b[0mnum_shadow_models\u001b[0m\u001b[0;34m=\u001b[0m\u001b[0;36m100\u001b[0m\u001b[0;34m)\u001b[0m\u001b[0;34m\u001b[0m\u001b[0;34m\u001b[0m\u001b[0m\n\u001b[1;32m     20\u001b[0m \u001b[0mprivacy_seen_features\u001b[0m\u001b[0;34m,\u001b[0m \u001b[0mprivacy_seen_labels\u001b[0m \u001b[0;34m=\u001b[0m \u001b[0mgenerate_query_data_shadow_models\u001b[0m\u001b[0;34m(\u001b[0m\u001b[0mCIFAR10Classifier\u001b[0m\u001b[0;34m,\u001b[0m \u001b[0mseen_loader\u001b[0m\u001b[0;34m,\u001b[0m \u001b[0;36m1\u001b[0m\u001b[0;34m,\u001b[0m \u001b[0;34m'cifar10_privacy_model.pth'\u001b[0m\u001b[0;34m,\u001b[0m \u001b[0mnum_shadow_models\u001b[0m\u001b[0;34m=\u001b[0m\u001b[0;36m100\u001b[0m\u001b[0;34m)\u001b[0m\u001b[0;34m\u001b[0m\u001b[0;34m\u001b[0m\u001b[0m\n",
            "\u001b[0;32m<ipython-input-31-d2cbf020792e>\u001b[0m in \u001b[0;36mgenerate_query_data_shadow_models\u001b[0;34m(model_class, data_loader, label, model_path, num_shadow_models)\u001b[0m\n\u001b[1;32m      8\u001b[0m         \u001b[0mshadow_model\u001b[0m\u001b[0;34m.\u001b[0m\u001b[0meval\u001b[0m\u001b[0;34m(\u001b[0m\u001b[0;34m)\u001b[0m\u001b[0;34m\u001b[0m\u001b[0;34m\u001b[0m\u001b[0m\n\u001b[1;32m      9\u001b[0m         \u001b[0;32mwith\u001b[0m \u001b[0mtorch\u001b[0m\u001b[0;34m.\u001b[0m\u001b[0mno_grad\u001b[0m\u001b[0;34m(\u001b[0m\u001b[0;34m)\u001b[0m\u001b[0;34m:\u001b[0m\u001b[0;34m\u001b[0m\u001b[0;34m\u001b[0m\u001b[0m\n\u001b[0;32m---> 10\u001b[0;31m             \u001b[0;32mfor\u001b[0m \u001b[0minputs\u001b[0m\u001b[0;34m,\u001b[0m \u001b[0m_\u001b[0m \u001b[0;32min\u001b[0m \u001b[0mdata_loader\u001b[0m\u001b[0;34m:\u001b[0m\u001b[0;34m\u001b[0m\u001b[0;34m\u001b[0m\u001b[0m\n\u001b[0m\u001b[1;32m     11\u001b[0m                 \u001b[0minputs\u001b[0m \u001b[0;34m=\u001b[0m \u001b[0minputs\u001b[0m\u001b[0;34m.\u001b[0m\u001b[0mto\u001b[0m\u001b[0;34m(\u001b[0m\u001b[0mdevice\u001b[0m\u001b[0;34m)\u001b[0m\u001b[0;34m\u001b[0m\u001b[0;34m\u001b[0m\u001b[0m\n\u001b[1;32m     12\u001b[0m                 \u001b[0moutputs\u001b[0m \u001b[0;34m=\u001b[0m \u001b[0mshadow_model\u001b[0m\u001b[0;34m(\u001b[0m\u001b[0minputs\u001b[0m\u001b[0;34m)\u001b[0m\u001b[0;34m\u001b[0m\u001b[0;34m\u001b[0m\u001b[0m\n",
            "\u001b[0;32m/usr/local/lib/python3.10/dist-packages/torch/utils/data/dataloader.py\u001b[0m in \u001b[0;36m__next__\u001b[0;34m(self)\u001b[0m\n\u001b[1;32m    629\u001b[0m                 \u001b[0;31m# TODO(https://github.com/pytorch/pytorch/issues/76750)\u001b[0m\u001b[0;34m\u001b[0m\u001b[0;34m\u001b[0m\u001b[0m\n\u001b[1;32m    630\u001b[0m                 \u001b[0mself\u001b[0m\u001b[0;34m.\u001b[0m\u001b[0m_reset\u001b[0m\u001b[0;34m(\u001b[0m\u001b[0;34m)\u001b[0m  \u001b[0;31m# type: ignore[call-arg]\u001b[0m\u001b[0;34m\u001b[0m\u001b[0;34m\u001b[0m\u001b[0m\n\u001b[0;32m--> 631\u001b[0;31m             \u001b[0mdata\u001b[0m \u001b[0;34m=\u001b[0m \u001b[0mself\u001b[0m\u001b[0;34m.\u001b[0m\u001b[0m_next_data\u001b[0m\u001b[0;34m(\u001b[0m\u001b[0;34m)\u001b[0m\u001b[0;34m\u001b[0m\u001b[0;34m\u001b[0m\u001b[0m\n\u001b[0m\u001b[1;32m    632\u001b[0m             \u001b[0mself\u001b[0m\u001b[0;34m.\u001b[0m\u001b[0m_num_yielded\u001b[0m \u001b[0;34m+=\u001b[0m \u001b[0;36m1\u001b[0m\u001b[0;34m\u001b[0m\u001b[0;34m\u001b[0m\u001b[0m\n\u001b[1;32m    633\u001b[0m             \u001b[0;32mif\u001b[0m \u001b[0mself\u001b[0m\u001b[0;34m.\u001b[0m\u001b[0m_dataset_kind\u001b[0m \u001b[0;34m==\u001b[0m \u001b[0m_DatasetKind\u001b[0m\u001b[0;34m.\u001b[0m\u001b[0mIterable\u001b[0m \u001b[0;32mand\u001b[0m\u001b[0;31m \u001b[0m\u001b[0;31m\\\u001b[0m\u001b[0;34m\u001b[0m\u001b[0;34m\u001b[0m\u001b[0m\n",
            "\u001b[0;32m/usr/local/lib/python3.10/dist-packages/torch/utils/data/dataloader.py\u001b[0m in \u001b[0;36m_next_data\u001b[0;34m(self)\u001b[0m\n\u001b[1;32m    673\u001b[0m     \u001b[0;32mdef\u001b[0m \u001b[0m_next_data\u001b[0m\u001b[0;34m(\u001b[0m\u001b[0mself\u001b[0m\u001b[0;34m)\u001b[0m\u001b[0;34m:\u001b[0m\u001b[0;34m\u001b[0m\u001b[0;34m\u001b[0m\u001b[0m\n\u001b[1;32m    674\u001b[0m         \u001b[0mindex\u001b[0m \u001b[0;34m=\u001b[0m \u001b[0mself\u001b[0m\u001b[0;34m.\u001b[0m\u001b[0m_next_index\u001b[0m\u001b[0;34m(\u001b[0m\u001b[0;34m)\u001b[0m  \u001b[0;31m# may raise StopIteration\u001b[0m\u001b[0;34m\u001b[0m\u001b[0;34m\u001b[0m\u001b[0m\n\u001b[0;32m--> 675\u001b[0;31m         \u001b[0mdata\u001b[0m \u001b[0;34m=\u001b[0m \u001b[0mself\u001b[0m\u001b[0;34m.\u001b[0m\u001b[0m_dataset_fetcher\u001b[0m\u001b[0;34m.\u001b[0m\u001b[0mfetch\u001b[0m\u001b[0;34m(\u001b[0m\u001b[0mindex\u001b[0m\u001b[0;34m)\u001b[0m  \u001b[0;31m# may raise StopIteration\u001b[0m\u001b[0;34m\u001b[0m\u001b[0;34m\u001b[0m\u001b[0m\n\u001b[0m\u001b[1;32m    676\u001b[0m         \u001b[0;32mif\u001b[0m \u001b[0mself\u001b[0m\u001b[0;34m.\u001b[0m\u001b[0m_pin_memory\u001b[0m\u001b[0;34m:\u001b[0m\u001b[0;34m\u001b[0m\u001b[0;34m\u001b[0m\u001b[0m\n\u001b[1;32m    677\u001b[0m             \u001b[0mdata\u001b[0m \u001b[0;34m=\u001b[0m \u001b[0m_utils\u001b[0m\u001b[0;34m.\u001b[0m\u001b[0mpin_memory\u001b[0m\u001b[0;34m.\u001b[0m\u001b[0mpin_memory\u001b[0m\u001b[0;34m(\u001b[0m\u001b[0mdata\u001b[0m\u001b[0;34m,\u001b[0m \u001b[0mself\u001b[0m\u001b[0;34m.\u001b[0m\u001b[0m_pin_memory_device\u001b[0m\u001b[0;34m)\u001b[0m\u001b[0;34m\u001b[0m\u001b[0;34m\u001b[0m\u001b[0m\n",
            "\u001b[0;32m/usr/local/lib/python3.10/dist-packages/torch/utils/data/_utils/fetch.py\u001b[0m in \u001b[0;36mfetch\u001b[0;34m(self, possibly_batched_index)\u001b[0m\n\u001b[1;32m     47\u001b[0m         \u001b[0;32mif\u001b[0m \u001b[0mself\u001b[0m\u001b[0;34m.\u001b[0m\u001b[0mauto_collation\u001b[0m\u001b[0;34m:\u001b[0m\u001b[0;34m\u001b[0m\u001b[0;34m\u001b[0m\u001b[0m\n\u001b[1;32m     48\u001b[0m             \u001b[0;32mif\u001b[0m \u001b[0mhasattr\u001b[0m\u001b[0;34m(\u001b[0m\u001b[0mself\u001b[0m\u001b[0;34m.\u001b[0m\u001b[0mdataset\u001b[0m\u001b[0;34m,\u001b[0m \u001b[0;34m\"__getitems__\"\u001b[0m\u001b[0;34m)\u001b[0m \u001b[0;32mand\u001b[0m \u001b[0mself\u001b[0m\u001b[0;34m.\u001b[0m\u001b[0mdataset\u001b[0m\u001b[0;34m.\u001b[0m\u001b[0m__getitems__\u001b[0m\u001b[0;34m:\u001b[0m\u001b[0;34m\u001b[0m\u001b[0;34m\u001b[0m\u001b[0m\n\u001b[0;32m---> 49\u001b[0;31m                 \u001b[0mdata\u001b[0m \u001b[0;34m=\u001b[0m \u001b[0mself\u001b[0m\u001b[0;34m.\u001b[0m\u001b[0mdataset\u001b[0m\u001b[0;34m.\u001b[0m\u001b[0m__getitems__\u001b[0m\u001b[0;34m(\u001b[0m\u001b[0mpossibly_batched_index\u001b[0m\u001b[0;34m)\u001b[0m\u001b[0;34m\u001b[0m\u001b[0;34m\u001b[0m\u001b[0m\n\u001b[0m\u001b[1;32m     50\u001b[0m             \u001b[0;32melse\u001b[0m\u001b[0;34m:\u001b[0m\u001b[0;34m\u001b[0m\u001b[0;34m\u001b[0m\u001b[0m\n\u001b[1;32m     51\u001b[0m                 \u001b[0mdata\u001b[0m \u001b[0;34m=\u001b[0m \u001b[0;34m[\u001b[0m\u001b[0mself\u001b[0m\u001b[0;34m.\u001b[0m\u001b[0mdataset\u001b[0m\u001b[0;34m[\u001b[0m\u001b[0midx\u001b[0m\u001b[0;34m]\u001b[0m \u001b[0;32mfor\u001b[0m \u001b[0midx\u001b[0m \u001b[0;32min\u001b[0m \u001b[0mpossibly_batched_index\u001b[0m\u001b[0;34m]\u001b[0m\u001b[0;34m\u001b[0m\u001b[0;34m\u001b[0m\u001b[0m\n",
            "\u001b[0;32m/usr/local/lib/python3.10/dist-packages/torch/utils/data/dataset.py\u001b[0m in \u001b[0;36m__getitems__\u001b[0;34m(self, indices)\u001b[0m\n\u001b[1;32m    417\u001b[0m             \u001b[0;32mreturn\u001b[0m \u001b[0mself\u001b[0m\u001b[0;34m.\u001b[0m\u001b[0mdataset\u001b[0m\u001b[0;34m.\u001b[0m\u001b[0m__getitems__\u001b[0m\u001b[0;34m(\u001b[0m\u001b[0;34m[\u001b[0m\u001b[0mself\u001b[0m\u001b[0;34m.\u001b[0m\u001b[0mindices\u001b[0m\u001b[0;34m[\u001b[0m\u001b[0midx\u001b[0m\u001b[0;34m]\u001b[0m \u001b[0;32mfor\u001b[0m \u001b[0midx\u001b[0m \u001b[0;32min\u001b[0m \u001b[0mindices\u001b[0m\u001b[0;34m]\u001b[0m\u001b[0;34m)\u001b[0m  \u001b[0;31m# type: ignore[attr-defined]\u001b[0m\u001b[0;34m\u001b[0m\u001b[0;34m\u001b[0m\u001b[0m\n\u001b[1;32m    418\u001b[0m         \u001b[0;32melse\u001b[0m\u001b[0;34m:\u001b[0m\u001b[0;34m\u001b[0m\u001b[0;34m\u001b[0m\u001b[0m\n\u001b[0;32m--> 419\u001b[0;31m             \u001b[0;32mreturn\u001b[0m \u001b[0;34m[\u001b[0m\u001b[0mself\u001b[0m\u001b[0;34m.\u001b[0m\u001b[0mdataset\u001b[0m\u001b[0;34m[\u001b[0m\u001b[0mself\u001b[0m\u001b[0;34m.\u001b[0m\u001b[0mindices\u001b[0m\u001b[0;34m[\u001b[0m\u001b[0midx\u001b[0m\u001b[0;34m]\u001b[0m\u001b[0;34m]\u001b[0m \u001b[0;32mfor\u001b[0m \u001b[0midx\u001b[0m \u001b[0;32min\u001b[0m \u001b[0mindices\u001b[0m\u001b[0;34m]\u001b[0m\u001b[0;34m\u001b[0m\u001b[0;34m\u001b[0m\u001b[0m\n\u001b[0m\u001b[1;32m    420\u001b[0m \u001b[0;34m\u001b[0m\u001b[0m\n\u001b[1;32m    421\u001b[0m     \u001b[0;32mdef\u001b[0m \u001b[0m__len__\u001b[0m\u001b[0;34m(\u001b[0m\u001b[0mself\u001b[0m\u001b[0;34m)\u001b[0m\u001b[0;34m:\u001b[0m\u001b[0;34m\u001b[0m\u001b[0;34m\u001b[0m\u001b[0m\n",
            "\u001b[0;32m/usr/local/lib/python3.10/dist-packages/torch/utils/data/dataset.py\u001b[0m in \u001b[0;36m<listcomp>\u001b[0;34m(.0)\u001b[0m\n\u001b[1;32m    417\u001b[0m             \u001b[0;32mreturn\u001b[0m \u001b[0mself\u001b[0m\u001b[0;34m.\u001b[0m\u001b[0mdataset\u001b[0m\u001b[0;34m.\u001b[0m\u001b[0m__getitems__\u001b[0m\u001b[0;34m(\u001b[0m\u001b[0;34m[\u001b[0m\u001b[0mself\u001b[0m\u001b[0;34m.\u001b[0m\u001b[0mindices\u001b[0m\u001b[0;34m[\u001b[0m\u001b[0midx\u001b[0m\u001b[0;34m]\u001b[0m \u001b[0;32mfor\u001b[0m \u001b[0midx\u001b[0m \u001b[0;32min\u001b[0m \u001b[0mindices\u001b[0m\u001b[0;34m]\u001b[0m\u001b[0;34m)\u001b[0m  \u001b[0;31m# type: ignore[attr-defined]\u001b[0m\u001b[0;34m\u001b[0m\u001b[0;34m\u001b[0m\u001b[0m\n\u001b[1;32m    418\u001b[0m         \u001b[0;32melse\u001b[0m\u001b[0;34m:\u001b[0m\u001b[0;34m\u001b[0m\u001b[0;34m\u001b[0m\u001b[0m\n\u001b[0;32m--> 419\u001b[0;31m             \u001b[0;32mreturn\u001b[0m \u001b[0;34m[\u001b[0m\u001b[0mself\u001b[0m\u001b[0;34m.\u001b[0m\u001b[0mdataset\u001b[0m\u001b[0;34m[\u001b[0m\u001b[0mself\u001b[0m\u001b[0;34m.\u001b[0m\u001b[0mindices\u001b[0m\u001b[0;34m[\u001b[0m\u001b[0midx\u001b[0m\u001b[0;34m]\u001b[0m\u001b[0;34m]\u001b[0m \u001b[0;32mfor\u001b[0m \u001b[0midx\u001b[0m \u001b[0;32min\u001b[0m \u001b[0mindices\u001b[0m\u001b[0;34m]\u001b[0m\u001b[0;34m\u001b[0m\u001b[0;34m\u001b[0m\u001b[0m\n\u001b[0m\u001b[1;32m    420\u001b[0m \u001b[0;34m\u001b[0m\u001b[0m\n\u001b[1;32m    421\u001b[0m     \u001b[0;32mdef\u001b[0m \u001b[0m__len__\u001b[0m\u001b[0;34m(\u001b[0m\u001b[0mself\u001b[0m\u001b[0;34m)\u001b[0m\u001b[0;34m:\u001b[0m\u001b[0;34m\u001b[0m\u001b[0;34m\u001b[0m\u001b[0m\n",
            "\u001b[0;32m/usr/local/lib/python3.10/dist-packages/torchvision/datasets/cifar.py\u001b[0m in \u001b[0;36m__getitem__\u001b[0;34m(self, index)\u001b[0m\n\u001b[1;32m    117\u001b[0m \u001b[0;34m\u001b[0m\u001b[0m\n\u001b[1;32m    118\u001b[0m         \u001b[0;32mif\u001b[0m \u001b[0mself\u001b[0m\u001b[0;34m.\u001b[0m\u001b[0mtransform\u001b[0m \u001b[0;32mis\u001b[0m \u001b[0;32mnot\u001b[0m \u001b[0;32mNone\u001b[0m\u001b[0;34m:\u001b[0m\u001b[0;34m\u001b[0m\u001b[0;34m\u001b[0m\u001b[0m\n\u001b[0;32m--> 119\u001b[0;31m             \u001b[0mimg\u001b[0m \u001b[0;34m=\u001b[0m \u001b[0mself\u001b[0m\u001b[0;34m.\u001b[0m\u001b[0mtransform\u001b[0m\u001b[0;34m(\u001b[0m\u001b[0mimg\u001b[0m\u001b[0;34m)\u001b[0m\u001b[0;34m\u001b[0m\u001b[0;34m\u001b[0m\u001b[0m\n\u001b[0m\u001b[1;32m    120\u001b[0m \u001b[0;34m\u001b[0m\u001b[0m\n\u001b[1;32m    121\u001b[0m         \u001b[0;32mif\u001b[0m \u001b[0mself\u001b[0m\u001b[0;34m.\u001b[0m\u001b[0mtarget_transform\u001b[0m \u001b[0;32mis\u001b[0m \u001b[0;32mnot\u001b[0m \u001b[0;32mNone\u001b[0m\u001b[0;34m:\u001b[0m\u001b[0;34m\u001b[0m\u001b[0;34m\u001b[0m\u001b[0m\n",
            "\u001b[0;32m/usr/local/lib/python3.10/dist-packages/torchvision/transforms/transforms.py\u001b[0m in \u001b[0;36m__call__\u001b[0;34m(self, img)\u001b[0m\n\u001b[1;32m     93\u001b[0m     \u001b[0;32mdef\u001b[0m \u001b[0m__call__\u001b[0m\u001b[0;34m(\u001b[0m\u001b[0mself\u001b[0m\u001b[0;34m,\u001b[0m \u001b[0mimg\u001b[0m\u001b[0;34m)\u001b[0m\u001b[0;34m:\u001b[0m\u001b[0;34m\u001b[0m\u001b[0;34m\u001b[0m\u001b[0m\n\u001b[1;32m     94\u001b[0m         \u001b[0;32mfor\u001b[0m \u001b[0mt\u001b[0m \u001b[0;32min\u001b[0m \u001b[0mself\u001b[0m\u001b[0;34m.\u001b[0m\u001b[0mtransforms\u001b[0m\u001b[0;34m:\u001b[0m\u001b[0;34m\u001b[0m\u001b[0;34m\u001b[0m\u001b[0m\n\u001b[0;32m---> 95\u001b[0;31m             \u001b[0mimg\u001b[0m \u001b[0;34m=\u001b[0m \u001b[0mt\u001b[0m\u001b[0;34m(\u001b[0m\u001b[0mimg\u001b[0m\u001b[0;34m)\u001b[0m\u001b[0;34m\u001b[0m\u001b[0;34m\u001b[0m\u001b[0m\n\u001b[0m\u001b[1;32m     96\u001b[0m         \u001b[0;32mreturn\u001b[0m \u001b[0mimg\u001b[0m\u001b[0;34m\u001b[0m\u001b[0;34m\u001b[0m\u001b[0m\n\u001b[1;32m     97\u001b[0m \u001b[0;34m\u001b[0m\u001b[0m\n",
            "\u001b[0;32m/usr/local/lib/python3.10/dist-packages/torchvision/transforms/transforms.py\u001b[0m in \u001b[0;36m__call__\u001b[0;34m(self, pic)\u001b[0m\n\u001b[1;32m    135\u001b[0m             \u001b[0mTensor\u001b[0m\u001b[0;34m:\u001b[0m \u001b[0mConverted\u001b[0m \u001b[0mimage\u001b[0m\u001b[0;34m.\u001b[0m\u001b[0;34m\u001b[0m\u001b[0;34m\u001b[0m\u001b[0m\n\u001b[1;32m    136\u001b[0m         \"\"\"\n\u001b[0;32m--> 137\u001b[0;31m         \u001b[0;32mreturn\u001b[0m \u001b[0mF\u001b[0m\u001b[0;34m.\u001b[0m\u001b[0mto_tensor\u001b[0m\u001b[0;34m(\u001b[0m\u001b[0mpic\u001b[0m\u001b[0;34m)\u001b[0m\u001b[0;34m\u001b[0m\u001b[0;34m\u001b[0m\u001b[0m\n\u001b[0m\u001b[1;32m    138\u001b[0m \u001b[0;34m\u001b[0m\u001b[0m\n\u001b[1;32m    139\u001b[0m     \u001b[0;32mdef\u001b[0m \u001b[0m__repr__\u001b[0m\u001b[0;34m(\u001b[0m\u001b[0mself\u001b[0m\u001b[0;34m)\u001b[0m \u001b[0;34m->\u001b[0m \u001b[0mstr\u001b[0m\u001b[0;34m:\u001b[0m\u001b[0;34m\u001b[0m\u001b[0;34m\u001b[0m\u001b[0m\n",
            "\u001b[0;32m/usr/local/lib/python3.10/dist-packages/torchvision/transforms/functional.py\u001b[0m in \u001b[0;36mto_tensor\u001b[0;34m(pic)\u001b[0m\n\u001b[1;32m    166\u001b[0m     \u001b[0;31m# handle PIL Image\u001b[0m\u001b[0;34m\u001b[0m\u001b[0;34m\u001b[0m\u001b[0m\n\u001b[1;32m    167\u001b[0m     \u001b[0mmode_to_nptype\u001b[0m \u001b[0;34m=\u001b[0m \u001b[0;34m{\u001b[0m\u001b[0;34m\"I\"\u001b[0m\u001b[0;34m:\u001b[0m \u001b[0mnp\u001b[0m\u001b[0;34m.\u001b[0m\u001b[0mint32\u001b[0m\u001b[0;34m,\u001b[0m \u001b[0;34m\"I;16\"\u001b[0m \u001b[0;32mif\u001b[0m \u001b[0msys\u001b[0m\u001b[0;34m.\u001b[0m\u001b[0mbyteorder\u001b[0m \u001b[0;34m==\u001b[0m \u001b[0;34m\"little\"\u001b[0m \u001b[0;32melse\u001b[0m \u001b[0;34m\"I;16B\"\u001b[0m\u001b[0;34m:\u001b[0m \u001b[0mnp\u001b[0m\u001b[0;34m.\u001b[0m\u001b[0mint16\u001b[0m\u001b[0;34m,\u001b[0m \u001b[0;34m\"F\"\u001b[0m\u001b[0;34m:\u001b[0m \u001b[0mnp\u001b[0m\u001b[0;34m.\u001b[0m\u001b[0mfloat32\u001b[0m\u001b[0;34m}\u001b[0m\u001b[0;34m\u001b[0m\u001b[0;34m\u001b[0m\u001b[0m\n\u001b[0;32m--> 168\u001b[0;31m     \u001b[0mimg\u001b[0m \u001b[0;34m=\u001b[0m \u001b[0mtorch\u001b[0m\u001b[0;34m.\u001b[0m\u001b[0mfrom_numpy\u001b[0m\u001b[0;34m(\u001b[0m\u001b[0mnp\u001b[0m\u001b[0;34m.\u001b[0m\u001b[0marray\u001b[0m\u001b[0;34m(\u001b[0m\u001b[0mpic\u001b[0m\u001b[0;34m,\u001b[0m \u001b[0mmode_to_nptype\u001b[0m\u001b[0;34m.\u001b[0m\u001b[0mget\u001b[0m\u001b[0;34m(\u001b[0m\u001b[0mpic\u001b[0m\u001b[0;34m.\u001b[0m\u001b[0mmode\u001b[0m\u001b[0;34m,\u001b[0m \u001b[0mnp\u001b[0m\u001b[0;34m.\u001b[0m\u001b[0muint8\u001b[0m\u001b[0;34m)\u001b[0m\u001b[0;34m,\u001b[0m \u001b[0mcopy\u001b[0m\u001b[0;34m=\u001b[0m\u001b[0;32mTrue\u001b[0m\u001b[0;34m)\u001b[0m\u001b[0;34m)\u001b[0m\u001b[0;34m\u001b[0m\u001b[0;34m\u001b[0m\u001b[0m\n\u001b[0m\u001b[1;32m    169\u001b[0m \u001b[0;34m\u001b[0m\u001b[0m\n\u001b[1;32m    170\u001b[0m     \u001b[0;32mif\u001b[0m \u001b[0mpic\u001b[0m\u001b[0;34m.\u001b[0m\u001b[0mmode\u001b[0m \u001b[0;34m==\u001b[0m \u001b[0;34m\"1\"\u001b[0m\u001b[0;34m:\u001b[0m\u001b[0;34m\u001b[0m\u001b[0;34m\u001b[0m\u001b[0m\n",
            "\u001b[0;31mKeyboardInterrupt\u001b[0m: "
          ]
        }
      ],
      "source": [
        "# # Function to generate query data using shadow models\n",
        "# def generate_query_data_shadow_models(model_class, data_loader, label, model_path, num_shadow_models=100):\n",
        "#     features = []\n",
        "#     labels = []\n",
        "#     for _ in range(num_shadow_models):\n",
        "#         shadow_model = model_class().to(device)\n",
        "#         shadow_model.load_state_dict(torch.load(model_path))  # Load the specified model\n",
        "#         shadow_model.eval()\n",
        "#         with torch.no_grad():\n",
        "#             for inputs, _ in data_loader:\n",
        "#                 inputs = inputs.to(device)\n",
        "#                 outputs = shadow_model(inputs)\n",
        "#                 features.extend(outputs.cpu().numpy())\n",
        "#                 labels.extend([label] * outputs.size(0))\n",
        "#     return features, labels\n",
        "\n",
        "# # Generate query data for attacker models using multiple shadow models\n",
        "# baseline_seen_features, baseline_seen_labels = generate_query_data_shadow_models(CIFAR10Classifier, seen_loader, 1, 'cifar10_baseline_model.pth', num_shadow_models=100)\n",
        "# baseline_unseen_features, baseline_unseen_labels = generate_query_data_shadow_models(CIFAR10Classifier, unseen_loader, 0, 'cifar10_baseline_model.pth', num_shadow_models=100)\n",
        "# privacy_seen_features, privacy_seen_labels = generate_query_data_shadow_models(CIFAR10Classifier, seen_loader, 1, 'cifar10_privacy_model.pth', num_shadow_models=100)\n",
        "# privacy_unseen_features, privacy_unseen_labels = generate_query_data_shadow_models(CIFAR10Classifier, unseen_loader, 0, 'cifar10_privacy_model.pth', num_shadow_models=100)\n"
      ]
    },
    {
      "cell_type": "code",
      "execution_count": 6,
      "metadata": {
        "colab": {
          "base_uri": "https://localhost:8080/"
        },
        "id": "npNsvNX38Qu6",
        "outputId": "d54d8500-fbb7-4b70-eac2-1b85be1c90d5"
      },
      "outputs": [
        {
          "name": "stderr",
          "output_type": "stream",
          "text": [
            "<ipython-input-6-46eb7b6f4328>:8: UserWarning: Creating a tensor from a list of numpy.ndarrays is extremely slow. Please consider converting the list to a single numpy.ndarray with numpy.array() before converting to a tensor. (Triggered internally at ../torch/csrc/utils/tensor_new.cpp:274.)\n",
            "  baseline_features = torch.tensor(baseline_features, dtype=torch.float32)\n"
          ]
        }
      ],
      "source": [
        "# Combine features and labels\n",
        "baseline_features = baseline_seen_features + baseline_unseen_features\n",
        "baseline_labels = baseline_seen_labels + baseline_unseen_labels\n",
        "privacy_features = privacy_seen_features + privacy_unseen_features\n",
        "privacy_labels = privacy_seen_labels + privacy_unseen_labels\n",
        "\n",
        "# Convert to tensors\n",
        "baseline_features = torch.tensor(baseline_features, dtype=torch.float32)\n",
        "baseline_labels = torch.tensor(baseline_labels, dtype=torch.long)\n",
        "privacy_features = torch.tensor(privacy_features, dtype=torch.float32)\n",
        "privacy_labels = torch.tensor(privacy_labels, dtype=torch.long)\n",
        "\n",
        "# Data loaders for attacker models\n",
        "baseline_loader = DataLoader(list(zip(baseline_features, baseline_labels)), batch_size=BATCH_SIZE, shuffle=True)\n",
        "privacy_loader = DataLoader(list(zip(privacy_features, privacy_labels)), batch_size=BATCH_SIZE, shuffle=True)\n"
      ]
    },
    {
      "cell_type": "code",
      "execution_count": 10,
      "metadata": {
        "colab": {
          "base_uri": "https://localhost:8080/"
        },
        "id": "lmGhuAwJwk8U",
        "outputId": "c24cfead-494a-4725-a9ed-d2cda977c2f6"
      },
      "outputs": [
        {
          "name": "stdout",
          "output_type": "stream",
          "text": [
            "Training baseline attacker model...\n",
            "Epoch [1/10], Loss: 0.63717, Accuracy: 0.66654250\n",
            "Epoch [2/10], Loss: 0.63575, Accuracy: 0.66683250\n",
            "Epoch [3/10], Loss: 0.63518, Accuracy: 0.66705750\n",
            "Epoch [4/10], Loss: 0.63471, Accuracy: 0.66721833\n",
            "Epoch [5/10], Loss: 0.63421, Accuracy: 0.66746833\n",
            "Epoch [6/10], Loss: 0.63373, Accuracy: 0.66772750\n",
            "Epoch [7/10], Loss: 0.63338, Accuracy: 0.66793417\n",
            "Epoch [8/10], Loss: 0.63305, Accuracy: 0.66811167\n",
            "Epoch [9/10], Loss: 0.63283, Accuracy: 0.66815583\n",
            "Epoch [10/10], Loss: 0.63257, Accuracy: 0.66838917\n",
            "Training privacy attacker model...\n",
            "Epoch [1/10], Loss: 0.63738, Accuracy: 0.66648917\n",
            "Epoch [2/10], Loss: 0.63618, Accuracy: 0.66666000\n",
            "Epoch [3/10], Loss: 0.63580, Accuracy: 0.66666417\n",
            "Epoch [4/10], Loss: 0.63541, Accuracy: 0.66667833\n",
            "Epoch [5/10], Loss: 0.63503, Accuracy: 0.66671750\n",
            "Epoch [6/10], Loss: 0.63476, Accuracy: 0.66676583\n",
            "Epoch [7/10], Loss: 0.63446, Accuracy: 0.66681333\n",
            "Epoch [8/10], Loss: 0.63418, Accuracy: 0.66682917\n",
            "Epoch [9/10], Loss: 0.63387, Accuracy: 0.66681417\n",
            "Epoch [10/10], Loss: 0.63371, Accuracy: 0.66685500\n"
          ]
        }
      ],
      "source": [
        "# Initialize attacker models\n",
        "baseline_attacker = AttackerModel().to(device)\n",
        "privacy_attacker = AttackerModel().to(device)\n",
        "\n",
        "# Loss and optimizer for attacker models\n",
        "criterion = nn.CrossEntropyLoss()\n",
        "optimizer_baseline = optim.Adam(baseline_attacker.parameters(), lr=0.001)\n",
        "optimizer_privacy = optim.Adam(privacy_attacker.parameters(), lr=0.001)\n",
        "\n",
        "# Function to train attacker model and print accuracy in each epoch\n",
        "def train_attacker(attacker_model, optimizer, data_loader, num_epochs=10):\n",
        "    loss_history = []\n",
        "    accuracy_history = []\n",
        "    for epoch in range(num_epochs):\n",
        "        attacker_model.train()\n",
        "        running_loss = 0.0\n",
        "        correct = 0\n",
        "        total = 0\n",
        "        for inputs, labels in data_loader:\n",
        "            inputs, labels = inputs.to(device), labels.to(device)\n",
        "            optimizer.zero_grad()\n",
        "            outputs = attacker_model(inputs)\n",
        "            loss = criterion(outputs, labels)\n",
        "            loss.backward()\n",
        "            optimizer.step()\n",
        "            running_loss += loss.item()\n",
        "            _, predicted = torch.max(outputs.data, 1)\n",
        "            total += labels.size(0)\n",
        "            correct += (predicted == labels).sum().item()\n",
        "        epoch_loss = running_loss / len(data_loader)\n",
        "        epoch_accuracy = correct / total\n",
        "        loss_history.append(epoch_loss)\n",
        "        accuracy_history.append(epoch_accuracy)\n",
        "        print(f'Epoch [{epoch+1}/{num_epochs}], Loss: {epoch_loss:.5f}, Accuracy: {epoch_accuracy:.8f}')\n",
        "    return loss_history, accuracy_history\n",
        "\n",
        "# Train attacker models\n",
        "print(\"Training baseline attacker model...\")\n",
        "baseline_loss_history, baseline_accuracy_history = train_attacker(baseline_attacker, optimizer_baseline, baseline_loader, num_epochs=10)\n",
        "\n",
        "print(\"Training privacy attacker model...\")\n",
        "privacy_loss_history, privacy_accuracy_history = train_attacker(privacy_attacker, optimizer_privacy, privacy_loader, num_epochs=10)\n"
      ]
    },
    {
      "cell_type": "code",
      "execution_count": 11,
      "metadata": {
        "colab": {
          "base_uri": "https://localhost:8080/",
          "height": 765
        },
        "id": "IJ9DQExjwk-z",
        "outputId": "20dfe30f-309d-4bc2-e33f-4369b44bdd6a"
      },
      "outputs": [
        {
          "name": "stdout",
          "output_type": "stream",
          "text": [
            "Baseline Attacker Model Accuracy: 0.66865\n",
            "Privacy Attacker Model Accuracy: 0.66718\n"
          ]
        },
        {
          "name": "stderr",
          "output_type": "stream",
          "text": [
            "<ipython-input-11-83a2bfe1d05f>:17: MatplotlibDeprecationWarning: Auto-removal of overlapping axes is deprecated since 3.6 and will be removed two minor releases later; explicitly call ax.remove() as needed.\n",
            "  plt.subplot(2, 1, 1)\n"
          ]
        },
        {
          "data": {
            "image/png": "[encoded data removed]",
            "text/plain": [
              "<Figure size 700x800 with 2 Axes>"
            ]
          },
          "metadata": {},
          "output_type": "display_data"
        }
      ],
      "source": [
        "def evaluate_attacker(attacker_model, features, labels):\n",
        "    attacker_model.eval()\n",
        "    with torch.no_grad():\n",
        "        outputs = attacker_model(features.to(device))\n",
        "        _, predicted = torch.max(outputs, 1)\n",
        "        accuracy = accuracy_score(labels.cpu(), predicted.cpu())\n",
        "    return accuracy\n",
        "\n",
        "baseline_attacker_accuracy = evaluate_attacker(baseline_attacker, baseline_features, baseline_labels)\n",
        "privacy_attacker_accuracy = evaluate_attacker(privacy_attacker, privacy_features, privacy_labels)\n",
        "\n",
        "print(f'Baseline Attacker Model Accuracy: {baseline_attacker_accuracy:.5f}')\n",
        "print(f'Privacy Attacker Model Accuracy: {privacy_attacker_accuracy:.5f}')\n",
        "\n",
        "plt.figure(figsize=(7, 8))\n",
        "plt.title('Loss and Accuracy History of Attacker Models')\n",
        "plt.subplot(2, 1, 1)\n",
        "plt.plot(range(1, 11), baseline_loss_history, label='Baseline Attacker Model - Loss')\n",
        "plt.plot(range(1, 11), privacy_loss_history, label='Privacy Attacker Model - Loss')\n",
        "plt.legend()\n",
        "plt.grid(True)\n",
        "plt.xlabel('Epochs')\n",
        "plt.ylabel('Loss')\n",
        "plt.subplot(2, 1, 2)\n",
        "plt.plot(range(1, 11), baseline_accuracy_history, label='Baseline Attacker Model - Accuracy')\n",
        "plt.plot(range(1, 11), privacy_accuracy_history, label='Privacy Attacker Model - Accuracy')\n",
        "plt.xlabel('Epochs')\n",
        "plt.ylabel('Accuracy')\n",
        "\n",
        "plt.legend()\n",
        "plt.grid(True)\n",
        "plt.show()\n"
      ]
    },
    {
      "cell_type": "markdown",
      "metadata": {
        "id": "GnHKF5PB5IHi"
      },
      "source": []
    },
    {
      "cell_type": "code",
      "execution_count": 12,
      "metadata": {
        "colab": {
          "base_uri": "https://localhost:8080/"
        },
        "id": "QR6sf53TKd6B",
        "outputId": "d15f01a2-9055-420b-cce7-07a65931bbf5"
      },
      "outputs": [
        {
          "name": "stdout",
          "output_type": "stream",
          "text": [
            "Attacker models saved.\n"
          ]
        }
      ],
      "source": [
        "# Save the trained attacker models\n",
        "torch.save(baseline_attacker.state_dict(), 'baseline_attacker_model.pth')\n",
        "torch.save(privacy_attacker.state_dict(), 'privacy_attacker_model.pth')\n",
        "\n",
        "# Save as .dict\n",
        "torch.save(baseline_attacker.state_dict(), 'baseline_attacker_model.dict')\n",
        "torch.save(privacy_attacker.state_dict(), 'privacy_attacker_model.dict')\n",
        "\n",
        "print(\"Attacker models saved.\")"
      ]
    },
    {
      "cell_type": "markdown",
      "metadata": {
        "id": "h-5TBq_iR7uh"
      },
      "source": [
        "# part 3 - Membership Inference Attack"
      ]
    },
    {
      "cell_type": "markdown",
      "metadata": {
        "id": "nhvehEq1YIAv"
      },
      "source": [
        "### Simulation Question 8."
      ]
    },
    {
      "cell_type": "markdown",
      "metadata": {
        "id": "o11u_wSOYQQO"
      },
      "source": [
        "**Attempt to train an attacker model for the given private model (private_model.pth). We will test it on our dataset during the online presentation session. A competitive bonus point is available for the best performance.**"
      ]
    },
    {
      "cell_type": "markdown",
      "metadata": {
        "id": "s1Lf58IRUUiF"
      },
      "source": [
        "Define the CIFAR-10 Classifier Model"
      ]
    },
    {
      "cell_type": "code",
      "execution_count": 18,
      "metadata": {
        "id": "jQ5tQMNrS2S6"
      },
      "outputs": [],
      "source": [
        "from torchvision import models\n",
        "import torch\n",
        "import torchvision\n",
        "import torchvision.transforms as transforms\n",
        "from torch.utils.data import DataLoader\n",
        "import torch.nn as nn\n",
        "import torch.nn.functional as F\n",
        "import torch.optim as optim\n",
        "import numpy as np\n",
        "import matplotlib.pyplot as plt\n",
        "\n",
        "\n",
        "class CIFAR10Classifier(nn.Module):\n",
        "  def __init__(self):\n",
        "    super(CIFAR10Classifier, self).__init__()\n",
        "    self.conv1 = nn.Conv2d(3, 16, 3, 1)\n",
        "    self.conv2 = nn.Conv2d(16, 32, 3, 1)\n",
        "    self.dropout1 = nn.Dropout2d(0.25)\n",
        "    self.dropout2 = nn.Dropout2d(0.5)\n",
        "    self.fc1 = nn.Linear(6272, 64)\n",
        "    self.fc2 = nn.Linear(64, 10)\n",
        "\n",
        "  def forward(self, x):\n",
        "    x = self.conv1(x)\n",
        "    x = F.relu(x)\n",
        "    x = self.conv2(x)\n",
        "    x = F.relu(x)\n",
        "    x = F.max_pool2d(x, 2)\n",
        "    x = self.dropout1(x)\n",
        "    x = torch.flatten(x, 1)\n",
        "    x = self.fc1(x)\n",
        "    x = F.relu(x)\n",
        "    x = self.dropout2(x)\n",
        "    x = self.fc2(x)\n",
        "    return x\n",
        "\n"
      ]
    },
    {
      "cell_type": "markdown",
      "metadata": {
        "id": "aadN9441URsn"
      },
      "source": [
        "Load and Prepare the Data"
      ]
    },
    {
      "cell_type": "code",
      "execution_count": 19,
      "metadata": {
        "colab": {
          "base_uri": "https://localhost:8080/"
        },
        "id": "Couo1l1aAyTK",
        "outputId": "8b50077f-2d97-45ef-dab2-b8a519834124"
      },
      "outputs": [
        {
          "name": "stdout",
          "output_type": "stream",
          "text": [
            "Files already downloaded and verified\n",
            "Files already downloaded and verified\n"
          ]
        },
        {
          "name": "stderr",
          "output_type": "stream",
          "text": [
            "/usr/local/lib/python3.10/dist-packages/torch/nn/functional.py:1374: UserWarning: dropout2d: Received a 2-D input to dropout2d, which is deprecated and will result in an error in a future release. To retain the behavior and silence this warning, please use dropout instead. Note that dropout2d exists to provide channel-wise dropout on inputs with 2 spatial dimensions, a channel dimension, and an optional batch dimension (i.e. 3D or 4D inputs).\n",
            "  warnings.warn(warn_msg)\n"
          ]
        },
        {
          "name": "stdout",
          "output_type": "stream",
          "text": [
            "Training Accuracy: 0.5004\n",
            "Confusion Matrix:\n",
            "[[   48 19952]\n",
            " [   32 19968]]\n",
            "Precision: 0.5002\n",
            "Recall: 0.9984\n",
            "F1 Score: 0.6665\n"
          ]
        }
      ],
      "source": [
        "import torch\n",
        "import torch.nn as nn\n",
        "import torch.optim as optim\n",
        "from torchvision.datasets import CIFAR10\n",
        "from torchvision import transforms\n",
        "from torch.utils.data import Subset, DataLoader, TensorDataset\n",
        "from sklearn.metrics import confusion_matrix, precision_score, recall_score ,f1_score\n",
        "from sklearn.linear_model import LogisticRegression\n",
        "\n",
        "device = torch.device('cuda' if torch.cuda.is_available() else 'cpu')\n",
        "\n",
        "model = CIFAR10Classifier()\n",
        "state_dict = torch.load(\"model_state_dict.pth\", map_location=device)\n",
        "new_state_dict = {key.replace('_module.', ''): value for key, value in state_dict.items()}\n",
        "model.load_state_dict(new_state_dict)\n",
        "model.to(device)\n",
        "model.eval()\n",
        "\n",
        "transform = transforms.Compose([\n",
        "    transforms.ToTensor(),\n",
        "    transforms.Normalize((0.5, 0.5, 0.5), (0.5, 0.5, 0.5))\n",
        "])\n",
        "\n",
        "DATA_ROOT = '../cifar10'\n",
        "BATCH_SIZE = 64\n",
        "\n",
        "# Load the indices from list.txt\n",
        "indices_file = 'list.txt' ############\n",
        "with open(indices_file, 'r') as f:\n",
        "    indices = [int(line.strip()) for line in f]\n",
        "\n",
        "full_train_dataset = CIFAR10(root=DATA_ROOT, train=True, download=True, transform=transform)\n",
        "test_dataset = CIFAR10(root=DATA_ROOT, train=False, download=True, transform=transform)\n",
        "\n",
        "train_indices_set = set(indices)\n",
        "all_indices = set(range(len(full_train_dataset)))\n",
        "other_indices = list(all_indices - train_indices_set)\n",
        "\n",
        "train_dataset = Subset(full_train_dataset, indices[:len(indices)//2])  ###########\n",
        "other_dataset = Subset(full_train_dataset, other_indices)\n",
        "\n",
        "# Create data loaders\n",
        "train_loader = DataLoader(train_dataset, batch_size=BATCH_SIZE, shuffle=False)\n",
        "other_loader = DataLoader(other_dataset, batch_size=BATCH_SIZE, shuffle=False)\n",
        "test_loader = DataLoader(test_dataset, batch_size=BATCH_SIZE, shuffle=False)\n",
        "\n",
        "# Create labels\n",
        "train_labels = torch.ones(len(train_dataset)).to(device)\n",
        "other_labels = torch.zeros(len(other_dataset)).to(device)\n",
        "test_labels = torch.zeros(len(test_dataset)).to(device)\n",
        "####################################\n",
        "#if you have an attacker model for each class, modify the above code.\n",
        "####################################\n",
        "\n",
        "def extract_features(model, dataloader):\n",
        "    model.eval()\n",
        "    features = []\n",
        "    with torch.no_grad():\n",
        "        for data in dataloader:\n",
        "            inputs, _ = data\n",
        "            inputs = inputs.to(device)\n",
        "            outputs = model(inputs)\n",
        "            features.append(outputs)\n",
        "    return torch.cat(features).to(device)\n",
        "\n",
        "train_features = extract_features(model, train_loader)\n",
        "other_features = extract_features(model, other_loader)\n",
        "test_features = extract_features(model, test_loader)\n",
        "\n",
        "\n",
        "combined_features = torch.cat((train_features, other_features, test_features))\n",
        "combined_labels = torch.cat((train_labels, other_labels, test_labels))\n",
        "\n",
        "\n",
        "new_dataset = TensorDataset(combined_features, combined_labels)\n",
        "new_loader = DataLoader(new_dataset, batch_size=BATCH_SIZE, shuffle=True)\n",
        "\n",
        "#load your attacker model\n",
        "attacker = AttackerModel().to(device)\n",
        "attacker.load_state_dict(torch.load('privacy_attacker_model.pth'))\n",
        "#############################################\n",
        "\n",
        "# Calculate training accuracy, confusion matrix, precision, and recall\n",
        "attacker.eval()\n",
        "all_labels = []\n",
        "all_predicted = []\n",
        "correct = 0\n",
        "total = 0\n",
        "\n",
        "with torch.no_grad():\n",
        "    for features, labels in new_loader:\n",
        "        features, labels = features.to(device), labels.to(device)\n",
        "        outputs = attacker(features).squeeze()\n",
        "        _, predicted = torch.max(outputs, 1)\n",
        "        total += labels.size(0)\n",
        "        correct += (predicted == labels).sum().item()\n",
        "        all_labels.extend(labels.cpu().numpy())\n",
        "        all_predicted.extend(predicted.cpu().numpy())\n",
        "\n",
        "accuracy = correct / total\n",
        "print(f'Training Accuracy: {accuracy:.4f}')\n",
        "\n",
        "cm = confusion_matrix(all_labels, all_predicted)\n",
        "precision = precision_score(all_labels, all_predicted)\n",
        "recall = recall_score(all_labels, all_predicted)\n",
        "f1 = f1_score(all_labels, all_predicted)\n",
        "\n",
        "print(f'Confusion Matrix:\\n{cm}')\n",
        "print(f\"Precision: {precision:.4f}\")\n",
        "print(f\"Recall: {recall:.4f}\")\n",
        "print(f\"F1 Score: {f1:.4f}\")"
      ]
    }
  ],
  "metadata": {
    "accelerator": "GPU",
    "colab": {
      "collapsed_sections": [
        "eSeisrqbWu3M",
        "TjSVjWZ5sqPM"
      ],
      "gpuType": "T4",
      "provenance": []
    },
    "kernelspec": {
      "display_name": "Python 3",
      "name": "python3"
    },
    "language_info": {
      "name": "python"
    }
  },
  "nbformat": 4,
  "nbformat_minor": 0
}
